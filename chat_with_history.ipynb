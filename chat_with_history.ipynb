{
 "cells": [
  {
   "cell_type": "code",
   "execution_count": 36,
   "metadata": {},
   "outputs": [],
   "source": [
    "import os\n",
    "import json\n",
    "import pprint\n",
    "\n",
    "from dotenv import load_dotenv\n",
    "\n",
    "from langchain.chains import create_history_aware_retriever, create_retrieval_chain\n",
    "from langchain.chains.combine_documents import create_stuff_documents_chain\n",
    "from langchain_community.chat_message_histories import ChatMessageHistory\n",
    "from langchain_community.document_loaders import TextLoader\n",
    "from langchain_community.vectorstores import FAISS\n",
    "from langchain_core.chat_history import BaseChatMessageHistory\n",
    "from langchain_core.prompts import ChatPromptTemplate, MessagesPlaceholder\n",
    "from langchain_core.runnables.history import RunnableWithMessageHistory\n",
    "from langchain_openai import ChatOpenAI, OpenAIEmbeddings\n",
    "from langchain_text_splitters import RecursiveCharacterTextSplitter\n",
    "\n",
    "from langchain.retrievers import ContextualCompressionRetriever\n",
    "from langchain.retrievers.document_compressors import CrossEncoderReranker\n",
    "from langchain_community.cross_encoders import HuggingFaceCrossEncoder"
   ]
  },
  {
   "cell_type": "code",
   "execution_count": 37,
   "metadata": {},
   "outputs": [],
   "source": [
    "load_dotenv()\n",
    "open_api_key = os.getenv(\"OPENAI_API_KEY\")\n",
    "if not open_api_key:\n",
    "    raise ValueError(\"OPENAI_API_KEY is not set\")"
   ]
  },
  {
   "cell_type": "code",
   "execution_count": 38,
   "metadata": {},
   "outputs": [],
   "source": [
    "loader = TextLoader(\"data/data_workshop.txt\", encoding=\"utf-8\")\n",
    "docs = loader.load()"
   ]
  },
  {
   "cell_type": "code",
   "execution_count": 39,
   "metadata": {},
   "outputs": [],
   "source": [
    "generative_llm = ChatOpenAI(model=\"gpt-4o\", temperature=0)"
   ]
  },
  {
   "cell_type": "code",
   "execution_count": 40,
   "metadata": {},
   "outputs": [
    {
     "data": {
      "text/plain": [
       "[Document(metadata={'source': 'data/data_workshop.txt'}, page_content='Arşın Mal Alan - \"Arşın Mal Alan\" filmi Üzeyir Hacıbəyovun eyniadlı musiqili komediyasına əsaslanır. Bu əsər Azərbaycan kinosunda bir neçə dəfə ekranlaşdırılmışdır. Ən məşhur versiyalardan ikisi 1945-ci ildə Rza Təhmasib və Nikolay Leşşenko, digəri isə 1965-ci ildə Tofiq Tağızadə tərəfindən çəkilmişdir.'),\n",
       " Document(metadata={'source': 'data/data_workshop.txt'}, page_content='\\nFilmin Tarixi və Versiyaları -\"Arşın Mal Alan\" operettası ilk dəfə 1913-cü ildə səhnəyə qoyulmuşdur. Bu əsər Azərbaycan teatrının klassik nümunələrindən hesab olunur. Filmin əsas mövzusu XX əsrin əvvəlində Bakıda cərəyan edir. Gənc tacir Əsgər evlənmək fikrinə düşür, lakin dövrün qaydalarından fərqli olaraq, o, qızı toydan öncə görmək istəyir. Bu məsələni həll etməkdə dostu Süleyman ona kömək edir.'),\n",
       " Document(metadata={'source': 'data/data_workshop.txt'}, page_content='\\n1945-ci İldə Çəkilmiş Film Rejissorlar: Rza Təhmasib və Nikolay Leşşenko Əsərin Müəllifi: Üzeyir Hacıbəyov Ssenari Müəllifi: Sabit Rəhman Baş Rollarda: Rəşid Behbudov, Leyla Bədirbəyli, Ələkbər Hüseynzadə, İsmayıl Əfəndiyev, Münəvvər Kələntərli, Lütfəli Abdullayev, Fatma Mehrəliyeva, Rəhilə Mustafayeva Operatorlar: Əlisəttar Atakişiyev, Muxtar Dadaşov Bəstəkar: Üzeyir Hacıbəyov Rəssam: Yuri Şvets İstehsalçı: Bakı Kinostudiyasıİlk Baxış Tarixi: 1 oktyabr 1945 Filmin Növü: Tammetrajlı bədii film Müddət: 89 dəq. Büdcə: 5.807.000 rubl Ölkə: Azərbaycan SSR Dillər: Rusca (1945), Azərbaycanca (2006) Texniki Məlumatlar: 10 hissə, 2715 metr, ağ-qara IMDb: ID0037520 Bu film Azərbaycan Respublikası Nazirlər Kabinetinin 7 may 2019-cu il tarixli, 211 nömrəli Qərarı ilə dövlət varidatı elan edilmişdir. Film Sovet dövründə 136 ölkədə nümayiş etdirilmiş və 86 dilə tərcümə olunmuşdur.'),\n",
       " Document(metadata={'source': 'data/data_workshop.txt'}, page_content='\\n1965-ci İldə Çəkilmiş Film Rejissor: Tofiq Tağızadə Əsərin Müəllifi: Üzeyir Hacıbəyov Ssenari Müəllifləri: Tofiq Tağızadə, Muxtar Dadaşov Baş Rollarda: Həsən Məmmədov, Leyla Şıxlinskaya, Ağadadaş Qurbanov, Nəcibə Məlikova, Hacımurad Yegizarov, Xuraman Hacıyeva, Tələt Rəhmanov, Səfurə İbrahimova Operator: İlya Minkovetski Bəstəkar: Üzeyir Hacıbəyov Rəssam: Elbəy Rzaquliyev İstehsalçı: \"Azərbaycanfilm\" Kinostudiyası İlk Baxış Tarixi: 1 fevral 1966 Filmin Növü: Tammetrajlı bədii film Müddət: 85 dəq. Ölkə: Azərbaycan SSR Dil: Azərbaycanca Texniki Məlumatlar: 9 hissə, 2532 metr, genişformatlı, rəngli IMDb: ID1573789 Bu film 1967-ci ildə Tbilisidə I Zaqafqaziya və Ukrayna respublikaları filmlərinin \"Prometey-67\" zona kinofestivalında Ən yaxşı musiqili filmə görə Gürcüstan SSR Bəstəkarlar İttifaqının prizinə layiq görülmüşdür.'),\n",
       " Document(metadata={'source': 'data/data_workshop.txt'}, page_content='\\nMəzmun Hər iki film XX əsrin əvvəlində Bakıda baş verir. Gənc tacir Əsgər evlənmək fikrinə düşür, lakin dövrün qaydalarından fərqli olaraq, o, qızı toydan öncə görmək istəyir. Bu məsələni həll etməkdə dostu Süleyman ona kömək edir. Filmlər məhəbbət, komediya və musiqi elementlərini birləşdirir.'),\n",
       " Document(metadata={'source': 'data/data_workshop.txt'}, page_content='\\nDialoqlar və Əsas Sözlər 1945-ci İldə Çəkilmiş Film Əsgər (Rəşid Behbudov): \"Mən qızla tanış ola bilməyəcəyəmmi? Qızın üzünü görməyəcəyəmmi?\" Süleyman (Ələkbər Hüseynzadə): \"Sənə qızın üzünü göstərəcəyəm. Amma sənə demək lazımdır ki, bu iş çox təhlükəlidir.\" Əsgər: \"Mən qızla danışacam, qızın səsini eşidəcəyəm. Qızın səsini eşidəndən sonra mənə qızın necə olduğunu deyəcəyəm.\" Süleyman: \"Yaxşı, gedək. Amma sənə xəbərdarlıq edirəm, bu iş çox təhlükəlidir.\"'),\n",
       " Document(metadata={'source': 'data/data_workshop.txt'}, page_content='\\n1965-ci İldə Çəkilmiş Film Əsgər (Həsən Məmmədov): \"Süleyman, mən qızla tanış ola bilməyəcəyəmmi? Qızın üzünü görməyəcəyəmmi?\" Süleyman (Ağadadaş Qurbanov): \"Sənə qızın üzünü göstərəcəyəm. Amma sənə demək lazımdır ki, bu iş çox təhlükəlidir. Əgər sənə qızın üzünü göstərsəm, sənə qızın atası tərəfindən cəza verilə bilər.\" Əsgər: \"Mən qızla danışacam, qızın səsini eşidəcəyəm. Qızın səsini eşidəndən sonra mənə qızın necə olduğunu deyəcəyəm.\" Süleyman: \"Yaxşı, gedək. Amma sənə xəbərdarlıq edirəm, bu iş çox təhlükəlidir.\"'),\n",
       " Document(metadata={'source': 'data/data_workshop.txt'}, page_content='\\nFilmin Mədəni Əhəmiyyəti \"Arşın Mal Alan\" filmi Azərbaycan mədəniyyətinə və kinematoqrafiyasına əhəmiyyətli töhfə vermişdir. 1945-ci il versiyası Sovet dövründə çox məşhur idi və 136 ölkədə nümayiş etdirilmişdir. 1965-ci il versiyası isə milli kino tarixində əhəmiyyətli yer tutur.'),\n",
       " Document(metadata={'source': 'data/data_workshop.txt'}, page_content='\\nMusiqi Filmdəki musiqi Üzeyir Hacıbəyovun əsərlərindən ibarətdir. \"Arşın Mal Alan\" operettası Azərbaycan musiqi teatrının klassik nümunələrindən hesab olunur. Filmdəki mahnılar, xüsusilə \"Qız qalası\" və \"Süleyman\" mahnıları, izləyicilər arasında çox məşhurdur.'),\n",
       " Document(metadata={'source': 'data/data_workshop.txt'}, page_content='\\nAktyorlar Rəşid Behbudov (1945): Əsgər rolunu ifa edən Rəşid Behbudov Azərbaycanın məşhur müğənnisi və aktyorudur. Leyla Bədirbəyli (1945): Qız rolunu ifa edən Leyla Bədirbəyli Azərbaycanın məşhur aktrisalarından biridir. Həsən Məmmədov (1965): Əsgər rolunu ifa edən Həsən Məmmədov Azərbaycanın məşhur aktyorlarından biridir. Leyla Şıxlinskaya (1965): Qız rolunu ifa edən Leyla Şıxlinskaya Azərbaycanın məşhur aktrisalarından biridir.'),\n",
       " Document(metadata={'source': 'data/data_workshop.txt'}, page_content='\\nFilmin Qəbulu \"Arşın Mal Alan\" filmi hər iki versiyada izləyicilər tərəfindən yaxşı qarşılanmışdır. Filmin musiqili komediya janrı, yumorlu dialoqları və məhəbbət mövzusu izləyiciləri cəlb edir.'),\n",
       " Document(metadata={'source': 'data/data_workshop.txt'}, page_content='\\nNəticə \"Arşın Mal Alan\" filmi Azərbaycan kinematoqrafiyasının klassik nümunələrindən hesab olunur. Filmin məzmunu, musiqisi və aktyorların ifası izləyiciləri həmişə cəlb edir. Filmin hər iki versiyası milli kino tarixində əhəmiyyətli yer tutur.'),\n",
       " Document(metadata={'source': 'data/data_workshop.txt'}, page_content='\\nFilmin Təsiri \"Arşın Mal Alan\" filmi Azərbaycan mədəniyyətinə və kinematoqrafiyasına əhəmiyyətli töhfə vermişdir. Bu film Azərbaycanın milli kimliyini və mədəni irsini dünya miqyasında tanıtmışdır. Filmin musiqisi və məzmunu izləyicilərə Azərbaycanın zəngin mədəni irsini göstərir.'),\n",
       " Document(metadata={'source': 'data/data_workshop.txt'}, page_content='\\nBeynəlxalq Nümayişlər 1945-ci il versiyası Sovet dövründə çox məşhur idi və 136 ölkədə nümayiş etdirilmişdir. Bu, Azərbaycan kinematoqrafiyasının beynəlxalq səviyyədə tanınmasına kömək etmişdir.'),\n",
       " Document(metadata={'source': 'data/data_workshop.txt'}, page_content='\\nMilli Kinematoqrafiya \"Arşın Mal Alan\" filmi milli kinematoqrafiyanın inkişafında mühüm rol oynamışdır. Filmin müvəffəqiyyəti Azərbaycan kinematoqrafiyasının inkişafına təkan vermişdir.'),\n",
       " Document(metadata={'source': 'data/data_workshop.txt'}, page_content='\\nMədəni İrs Filmin məzmunu və musiqisi Azərbaycanın mədəni irsinə aid edilir. \"Arşın Mal Alan\" operettası Azərbaycan musiqi teatrının klassik nümunələrindən hesab olunur.'),\n",
       " Document(metadata={'source': 'data/data_workshop.txt'}, page_content='\\nNövbəti Nəsillərə Təsiri \"Arşın Mal Alan\" filmi növbəti nəsillərə də təsirini davam etdirir. Filmin məzmunu və musiqisi gənclər arasında çox məşhurdur.'),\n",
       " Document(metadata={'source': 'data/data_workshop.txt'}, page_content='\\nFilmin Yenidən Bərpası Son illərdə \"Arşın Mal Alan\" filminin yenidən bərpası məsələsi aktualdır. Filmin rəngləndirilməsi və yeni formatda nümayişi planlaşdırılır. Bu, filmin daha geniş auditoriya tərəfindən qəbuluna kömək edəcəkdir.'),\n",
       " Document(metadata={'source': 'data/data_workshop.txt'}, page_content='\\nTexniki Yeniləmə Filmin texniki yeniləməsi, o cümlədən rəngləndirilməsi və yeni formatda nümayişi, filmin keyfiyyətini yaxşılaşdıracaq və daha gənc izləyicilərə çatdırılmasına kömək edəcəkdir'),\n",
       " Document(metadata={'source': 'data/data_workshop.txt'}, page_content='\\nMədəni Tədbirlər \"Arşın Mal Alan\" filminə həsr olunmuş mədəni tədbirlər keçirilir. Bu tədbirlər filmin mədəni əhəmiyyətini daha da artırır.'),\n",
       " Document(metadata={'source': 'data/data_workshop.txt'}, page_content='\\nTəhsil Prosesində İstifadə Filmin mövzusu və məzmunu təhsil prosesində istifadə olunur. Bu, gənclərə Azərbaycan mədəniyyəti və tarixi haqqında daha çox məlumat verməyə kömək edir.'),\n",
       " Document(metadata={'source': 'data/data_workshop.txt'}, page_content='\\nNəticə \"Arşın Mal Alan\" filmi Azərbaycan kinematoqrafiyasının klassik nümunələrindən hesab olunur. Filmin məzmunu, musiqisi və aktyorların ifası izləyiciləri həmişə cəlb edir. Filmin hər iki versiyası milli kino tarixində əhəmiyyətli yer tutur. Filmin yenidən bərpası və texniki yeniləməsi, filmin daha geniş auditoriya tərəfindən qəbuluna kömək edəcəkdir.')]"
      ]
     },
     "execution_count": 40,
     "metadata": {},
     "output_type": "execute_result"
    }
   ],
   "source": [
    "text_splitter = RecursiveCharacterTextSplitter(\n",
    "    chunk_size=100, \n",
    "    chunk_overlap=10,\n",
    "    separators=[\"\\n\"]\n",
    ")   \n",
    "\n",
    "splits = text_splitter.split_documents(docs)\n",
    "splits"
   ]
  },
  {
   "cell_type": "code",
   "execution_count": 41,
   "metadata": {},
   "outputs": [
    {
     "name": "stderr",
     "output_type": "stream",
     "text": [
      "c:\\Users\\murad\\AppData\\Local\\Programs\\Python\\Python312\\Lib\\site-packages\\sentence_transformers\\cross_encoder\\CrossEncoder.py:11: TqdmExperimentalWarning: Using `tqdm.autonotebook.tqdm` in notebook mode. Use `tqdm.tqdm` instead to force console mode (e.g. in jupyter console)\n",
      "  from tqdm.autonotebook import tqdm, trange\n"
     ]
    },
    {
     "data": {
      "application/vnd.jupyter.widget-view+json": {
       "model_id": "4720957bd48f40678569e5ae71354e5f",
       "version_major": 2,
       "version_minor": 0
      },
      "text/plain": [
       "config.json:   0%|          | 0.00/794 [00:00<?, ?B/s]"
      ]
     },
     "metadata": {},
     "output_type": "display_data"
    },
    {
     "name": "stderr",
     "output_type": "stream",
     "text": [
      "c:\\Users\\murad\\AppData\\Local\\Programs\\Python\\Python312\\Lib\\site-packages\\huggingface_hub\\file_download.py:159: UserWarning: `huggingface_hub` cache-system uses symlinks by default to efficiently store duplicated files but your machine does not support them in C:\\Users\\murad\\.cache\\huggingface\\hub\\models--cross-encoder--ms-marco-MiniLM-L-2-v2. Caching files will still work but in a degraded version that might require more space on your disk. This warning can be disabled by setting the `HF_HUB_DISABLE_SYMLINKS_WARNING` environment variable. For more details, see https://huggingface.co/docs/huggingface_hub/how-to-cache#limitations.\n",
      "To support symlinks on Windows, you either need to activate Developer Mode or to run Python as an administrator. In order to see activate developer mode, see this article: https://docs.microsoft.com/en-us/windows/apps/get-started/enable-your-device-for-development\n",
      "  warnings.warn(message)\n"
     ]
    },
    {
     "data": {
      "application/vnd.jupyter.widget-view+json": {
       "model_id": "1dd19d3808544d4f9106424314fb54ce",
       "version_major": 2,
       "version_minor": 0
      },
      "text/plain": [
       "model.safetensors:   0%|          | 0.00/62.5M [00:00<?, ?B/s]"
      ]
     },
     "metadata": {},
     "output_type": "display_data"
    },
    {
     "data": {
      "application/vnd.jupyter.widget-view+json": {
       "model_id": "69a2082bea3a4cd9ba0cf429a7055c71",
       "version_major": 2,
       "version_minor": 0
      },
      "text/plain": [
       "tokenizer_config.json:   0%|          | 0.00/316 [00:00<?, ?B/s]"
      ]
     },
     "metadata": {},
     "output_type": "display_data"
    },
    {
     "data": {
      "application/vnd.jupyter.widget-view+json": {
       "model_id": "2c676dd300014912b81716c534b4bcba",
       "version_major": 2,
       "version_minor": 0
      },
      "text/plain": [
       "vocab.txt:   0%|          | 0.00/232k [00:00<?, ?B/s]"
      ]
     },
     "metadata": {},
     "output_type": "display_data"
    },
    {
     "data": {
      "application/vnd.jupyter.widget-view+json": {
       "model_id": "0fb3206f1a8447ab991ddef5564f0be2",
       "version_major": 2,
       "version_minor": 0
      },
      "text/plain": [
       "special_tokens_map.json:   0%|          | 0.00/112 [00:00<?, ?B/s]"
      ]
     },
     "metadata": {},
     "output_type": "display_data"
    }
   ],
   "source": [
    "vectorstore = FAISS.from_documents(\n",
    "    documents=splits, \n",
    "    embedding=OpenAIEmbeddings(model=\"text-embedding-3-large\")\n",
    ")\n",
    "retriever = vectorstore.as_retriever()\n",
    "# retriever=vectorstore.as_retriever(search_type=\"similarity_score_threshold\", search_kwargs={\n",
    "#                               'score_threshold': 0.5})\n",
    "\n",
    "model = HuggingFaceCrossEncoder(model_name=\"cross-encoder/ms-marco-MiniLM-L-2-v2\")\n",
    "compressor = CrossEncoderReranker(model=model, top_n=3)\n",
    "compression_retriever = ContextualCompressionRetriever(\n",
    "    base_compressor=compressor, base_retriever=retriever\n",
    ")"
   ]
  },
  {
   "cell_type": "code",
   "execution_count": 42,
   "metadata": {},
   "outputs": [
    {
     "data": {
      "text/plain": [
       "[Document(metadata={'source': 'data/data_workshop.txt'}, page_content='Arşın Mal Alan - \"Arşın Mal Alan\" filmi Üzeyir Hacıbəyovun eyniadlı musiqili komediyasına əsaslanır. Bu əsər Azərbaycan kinosunda bir neçə dəfə ekranlaşdırılmışdır. Ən məşhur versiyalardan ikisi 1945-ci ildə Rza Təhmasib və Nikolay Leşşenko, digəri isə 1965-ci ildə Tofiq Tağızadə tərəfindən çəkilmişdir.'),\n",
       " Document(metadata={'source': 'data/data_workshop.txt'}, page_content='\\nFilmin Tarixi və Versiyaları -\"Arşın Mal Alan\" operettası ilk dəfə 1913-cü ildə səhnəyə qoyulmuşdur. Bu əsər Azərbaycan teatrının klassik nümunələrindən hesab olunur. Filmin əsas mövzusu XX əsrin əvvəlində Bakıda cərəyan edir. Gənc tacir Əsgər evlənmək fikrinə düşür, lakin dövrün qaydalarından fərqli olaraq, o, qızı toydan öncə görmək istəyir. Bu məsələni həll etməkdə dostu Süleyman ona kömək edir.'),\n",
       " Document(metadata={'source': 'data/data_workshop.txt'}, page_content='\\n1945-ci İldə Çəkilmiş Film Rejissorlar: Rza Təhmasib və Nikolay Leşşenko Əsərin Müəllifi: Üzeyir Hacıbəyov Ssenari Müəllifi: Sabit Rəhman Baş Rollarda: Rəşid Behbudov, Leyla Bədirbəyli, Ələkbər Hüseynzadə, İsmayıl Əfəndiyev, Münəvvər Kələntərli, Lütfəli Abdullayev, Fatma Mehrəliyeva, Rəhilə Mustafayeva Operatorlar: Əlisəttar Atakişiyev, Muxtar Dadaşov Bəstəkar: Üzeyir Hacıbəyov Rəssam: Yuri Şvets İstehsalçı: Bakı Kinostudiyasıİlk Baxış Tarixi: 1 oktyabr 1945 Filmin Növü: Tammetrajlı bədii film Müddət: 89 dəq. Büdcə: 5.807.000 rubl Ölkə: Azərbaycan SSR Dillər: Rusca (1945), Azərbaycanca (2006) Texniki Məlumatlar: 10 hissə, 2715 metr, ağ-qara IMDb: ID0037520 Bu film Azərbaycan Respublikası Nazirlər Kabinetinin 7 may 2019-cu il tarixli, 211 nömrəli Qərarı ilə dövlət varidatı elan edilmişdir. Film Sovet dövründə 136 ölkədə nümayiş etdirilmiş və 86 dilə tərcümə olunmuşdur.'),\n",
       " Document(metadata={'source': 'data/data_workshop.txt'}, page_content='\\n1965-ci İldə Çəkilmiş Film Rejissor: Tofiq Tağızadə Əsərin Müəllifi: Üzeyir Hacıbəyov Ssenari Müəllifləri: Tofiq Tağızadə, Muxtar Dadaşov Baş Rollarda: Həsən Məmmədov, Leyla Şıxlinskaya, Ağadadaş Qurbanov, Nəcibə Məlikova, Hacımurad Yegizarov, Xuraman Hacıyeva, Tələt Rəhmanov, Səfurə İbrahimova Operator: İlya Minkovetski Bəstəkar: Üzeyir Hacıbəyov Rəssam: Elbəy Rzaquliyev İstehsalçı: \"Azərbaycanfilm\" Kinostudiyası İlk Baxış Tarixi: 1 fevral 1966 Filmin Növü: Tammetrajlı bədii film Müddət: 85 dəq. Ölkə: Azərbaycan SSR Dil: Azərbaycanca Texniki Məlumatlar: 9 hissə, 2532 metr, genişformatlı, rəngli IMDb: ID1573789 Bu film 1967-ci ildə Tbilisidə I Zaqafqaziya və Ukrayna respublikaları filmlərinin \"Prometey-67\" zona kinofestivalında Ən yaxşı musiqili filmə görə Gürcüstan SSR Bəstəkarlar İttifaqının prizinə layiq görülmüşdür.'),\n",
       " Document(metadata={'source': 'data/data_workshop.txt'}, page_content='\\nMəzmun Hər iki film XX əsrin əvvəlində Bakıda baş verir. Gənc tacir Əsgər evlənmək fikrinə düşür, lakin dövrün qaydalarından fərqli olaraq, o, qızı toydan öncə görmək istəyir. Bu məsələni həll etməkdə dostu Süleyman ona kömək edir. Filmlər məhəbbət, komediya və musiqi elementlərini birləşdirir.'),\n",
       " Document(metadata={'source': 'data/data_workshop.txt'}, page_content='\\nDialoqlar və Əsas Sözlər 1945-ci İldə Çəkilmiş Film Əsgər (Rəşid Behbudov): \"Mən qızla tanış ola bilməyəcəyəmmi? Qızın üzünü görməyəcəyəmmi?\" Süleyman (Ələkbər Hüseynzadə): \"Sənə qızın üzünü göstərəcəyəm. Amma sənə demək lazımdır ki, bu iş çox təhlükəlidir.\" Əsgər: \"Mən qızla danışacam, qızın səsini eşidəcəyəm. Qızın səsini eşidəndən sonra mənə qızın necə olduğunu deyəcəyəm.\" Süleyman: \"Yaxşı, gedək. Amma sənə xəbərdarlıq edirəm, bu iş çox təhlükəlidir.\"'),\n",
       " Document(metadata={'source': 'data/data_workshop.txt'}, page_content='\\n1965-ci İldə Çəkilmiş Film Əsgər (Həsən Məmmədov): \"Süleyman, mən qızla tanış ola bilməyəcəyəmmi? Qızın üzünü görməyəcəyəmmi?\" Süleyman (Ağadadaş Qurbanov): \"Sənə qızın üzünü göstərəcəyəm. Amma sənə demək lazımdır ki, bu iş çox təhlükəlidir. Əgər sənə qızın üzünü göstərsəm, sənə qızın atası tərəfindən cəza verilə bilər.\" Əsgər: \"Mən qızla danışacam, qızın səsini eşidəcəyəm. Qızın səsini eşidəndən sonra mənə qızın necə olduğunu deyəcəyəm.\" Süleyman: \"Yaxşı, gedək. Amma sənə xəbərdarlıq edirəm, bu iş çox təhlükəlidir.\"'),\n",
       " Document(metadata={'source': 'data/data_workshop.txt'}, page_content='\\nFilmin Mədəni Əhəmiyyəti \"Arşın Mal Alan\" filmi Azərbaycan mədəniyyətinə və kinematoqrafiyasına əhəmiyyətli töhfə vermişdir. 1945-ci il versiyası Sovet dövründə çox məşhur idi və 136 ölkədə nümayiş etdirilmişdir. 1965-ci il versiyası isə milli kino tarixində əhəmiyyətli yer tutur.'),\n",
       " Document(metadata={'source': 'data/data_workshop.txt'}, page_content='\\nMusiqi Filmdəki musiqi Üzeyir Hacıbəyovun əsərlərindən ibarətdir. \"Arşın Mal Alan\" operettası Azərbaycan musiqi teatrının klassik nümunələrindən hesab olunur. Filmdəki mahnılar, xüsusilə \"Qız qalası\" və \"Süleyman\" mahnıları, izləyicilər arasında çox məşhurdur.'),\n",
       " Document(metadata={'source': 'data/data_workshop.txt'}, page_content='\\nAktyorlar Rəşid Behbudov (1945): Əsgər rolunu ifa edən Rəşid Behbudov Azərbaycanın məşhur müğənnisi və aktyorudur. Leyla Bədirbəyli (1945): Qız rolunu ifa edən Leyla Bədirbəyli Azərbaycanın məşhur aktrisalarından biridir. Həsən Məmmədov (1965): Əsgər rolunu ifa edən Həsən Məmmədov Azərbaycanın məşhur aktyorlarından biridir. Leyla Şıxlinskaya (1965): Qız rolunu ifa edən Leyla Şıxlinskaya Azərbaycanın məşhur aktrisalarından biridir.'),\n",
       " Document(metadata={'source': 'data/data_workshop.txt'}, page_content='\\nFilmin Qəbulu \"Arşın Mal Alan\" filmi hər iki versiyada izləyicilər tərəfindən yaxşı qarşılanmışdır. Filmin musiqili komediya janrı, yumorlu dialoqları və məhəbbət mövzusu izləyiciləri cəlb edir.'),\n",
       " Document(metadata={'source': 'data/data_workshop.txt'}, page_content='\\nNəticə \"Arşın Mal Alan\" filmi Azərbaycan kinematoqrafiyasının klassik nümunələrindən hesab olunur. Filmin məzmunu, musiqisi və aktyorların ifası izləyiciləri həmişə cəlb edir. Filmin hər iki versiyası milli kino tarixində əhəmiyyətli yer tutur.'),\n",
       " Document(metadata={'source': 'data/data_workshop.txt'}, page_content='\\nFilmin Təsiri \"Arşın Mal Alan\" filmi Azərbaycan mədəniyyətinə və kinematoqrafiyasına əhəmiyyətli töhfə vermişdir. Bu film Azərbaycanın milli kimliyini və mədəni irsini dünya miqyasında tanıtmışdır. Filmin musiqisi və məzmunu izləyicilərə Azərbaycanın zəngin mədəni irsini göstərir.'),\n",
       " Document(metadata={'source': 'data/data_workshop.txt'}, page_content='\\nBeynəlxalq Nümayişlər 1945-ci il versiyası Sovet dövründə çox məşhur idi və 136 ölkədə nümayiş etdirilmişdir. Bu, Azərbaycan kinematoqrafiyasının beynəlxalq səviyyədə tanınmasına kömək etmişdir.'),\n",
       " Document(metadata={'source': 'data/data_workshop.txt'}, page_content='\\nMilli Kinematoqrafiya \"Arşın Mal Alan\" filmi milli kinematoqrafiyanın inkişafında mühüm rol oynamışdır. Filmin müvəffəqiyyəti Azərbaycan kinematoqrafiyasının inkişafına təkan vermişdir.'),\n",
       " Document(metadata={'source': 'data/data_workshop.txt'}, page_content='\\nMədəni İrs Filmin məzmunu və musiqisi Azərbaycanın mədəni irsinə aid edilir. \"Arşın Mal Alan\" operettası Azərbaycan musiqi teatrının klassik nümunələrindən hesab olunur.'),\n",
       " Document(metadata={'source': 'data/data_workshop.txt'}, page_content='\\nNövbəti Nəsillərə Təsiri \"Arşın Mal Alan\" filmi növbəti nəsillərə də təsirini davam etdirir. Filmin məzmunu və musiqisi gənclər arasında çox məşhurdur.'),\n",
       " Document(metadata={'source': 'data/data_workshop.txt'}, page_content='\\nFilmin Yenidən Bərpası Son illərdə \"Arşın Mal Alan\" filminin yenidən bərpası məsələsi aktualdır. Filmin rəngləndirilməsi və yeni formatda nümayişi planlaşdırılır. Bu, filmin daha geniş auditoriya tərəfindən qəbuluna kömək edəcəkdir.'),\n",
       " Document(metadata={'source': 'data/data_workshop.txt'}, page_content='\\nTexniki Yeniləmə Filmin texniki yeniləməsi, o cümlədən rəngləndirilməsi və yeni formatda nümayişi, filmin keyfiyyətini yaxşılaşdıracaq və daha gənc izləyicilərə çatdırılmasına kömək edəcəkdir'),\n",
       " Document(metadata={'source': 'data/data_workshop.txt'}, page_content='\\nMədəni Tədbirlər \"Arşın Mal Alan\" filminə həsr olunmuş mədəni tədbirlər keçirilir. Bu tədbirlər filmin mədəni əhəmiyyətini daha da artırır.'),\n",
       " Document(metadata={'source': 'data/data_workshop.txt'}, page_content='\\nTəhsil Prosesində İstifadə Filmin mövzusu və məzmunu təhsil prosesində istifadə olunur. Bu, gənclərə Azərbaycan mədəniyyəti və tarixi haqqında daha çox məlumat verməyə kömək edir.'),\n",
       " Document(metadata={'source': 'data/data_workshop.txt'}, page_content='\\nNəticə \"Arşın Mal Alan\" filmi Azərbaycan kinematoqrafiyasının klassik nümunələrindən hesab olunur. Filmin məzmunu, musiqisi və aktyorların ifası izləyiciləri həmişə cəlb edir. Filmin hər iki versiyası milli kino tarixində əhəmiyyətli yer tutur. Filmin yenidən bərpası və texniki yeniləməsi, filmin daha geniş auditoriya tərəfindən qəbuluna kömək edəcəkdir.')]"
      ]
     },
     "execution_count": 42,
     "metadata": {},
     "output_type": "execute_result"
    }
   ],
   "source": [
    "splits"
   ]
  },
  {
   "cell_type": "code",
   "execution_count": 43,
   "metadata": {},
   "outputs": [],
   "source": [
    "# Some useful db operations\n",
    "\n",
    "# vectorstore.index.reset()\n",
    "# vectorstore.index.ntotal\n",
    "# vectorstore.index.reconstruct(0)"
   ]
  },
  {
   "cell_type": "code",
   "execution_count": 44,
   "metadata": {},
   "outputs": [
    {
     "data": {
      "text/plain": [
       "ContextualCompressionRetriever(base_compressor=CrossEncoderReranker(model=HuggingFaceCrossEncoder(client=<sentence_transformers.cross_encoder.CrossEncoder.CrossEncoder object at 0x000001A94EDE60C0>, model_name='cross-encoder/ms-marco-MiniLM-L-2-v2', model_kwargs={}), top_n=3), base_retriever=VectorStoreRetriever(tags=['FAISS', 'OpenAIEmbeddings'], vectorstore=<langchain_community.vectorstores.faiss.FAISS object at 0x000001A97BC40EC0>, search_kwargs={}))"
      ]
     },
     "execution_count": 44,
     "metadata": {},
     "output_type": "execute_result"
    }
   ],
   "source": [
    "compression_retriever"
   ]
  },
  {
   "cell_type": "code",
   "execution_count": 45,
   "metadata": {},
   "outputs": [],
   "source": [
    "### Contextualize question ###\n",
    "contextualize_q_system_prompt = \"\"\"Given a chat history and the latest user question \\\n",
    "which might reference context in the chat history, formulate a standalone question \\\n",
    "which can be understood without the chat history. Do NOT answer the question, \\\n",
    "just reformulate it if needed and otherwise return it as is.\"\"\"\n",
    "\n",
    "contextualize_q_prompt = ChatPromptTemplate.from_messages(\n",
    "    [\n",
    "        (\"system\", contextualize_q_system_prompt),\n",
    "        MessagesPlaceholder(\"chat_history\"),\n",
    "        (\"human\", \"{input}\"),\n",
    "    ]\n",
    ")"
   ]
  },
  {
   "cell_type": "code",
   "execution_count": 46,
   "metadata": {},
   "outputs": [],
   "source": [
    "history_aware_retriever = create_history_aware_retriever(\n",
    "    generative_llm, compression_retriever, contextualize_q_prompt\n",
    ")"
   ]
  },
  {
   "cell_type": "code",
   "execution_count": 47,
   "metadata": {},
   "outputs": [],
   "source": [
    "### Answer question ###\n",
    "qa_system_prompt = \"\"\"You are an assistant for question-answering tasks. \\\n",
    "Use ONLY the provided retrieved context to answer the question. \\\n",
    "If the context does not contain relevant information, simply respond with: \\\n",
    "\"I don’t know based on the given information.\" \\\n",
    "\n",
    "Retrieved context: \n",
    "{context}\"\"\"\n",
    "\n",
    "qa_prompt = ChatPromptTemplate.from_messages(\n",
    "    [\n",
    "        (\"system\", qa_system_prompt),\n",
    "        MessagesPlaceholder(\"chat_history\"),\n",
    "        (\"human\", \"{input}\"),\n",
    "    ]\n",
    ")\n",
    "\n",
    "question_answer_chain = create_stuff_documents_chain(generative_llm, qa_prompt)\n",
    "rag_chain = create_retrieval_chain(history_aware_retriever, question_answer_chain)"
   ]
  },
  {
   "cell_type": "code",
   "execution_count": 48,
   "metadata": {},
   "outputs": [],
   "source": [
    "### Statefully manage chat history ###\n",
    "store = {}\n",
    "session_id = \"chatbot_first_session\"\n",
    "\n",
    "def get_session_history(session_id: str) -> BaseChatMessageHistory:\n",
    "    if session_id not in store:\n",
    "        store[session_id] = ChatMessageHistory()\n",
    "    return store[session_id]"
   ]
  },
  {
   "cell_type": "code",
   "execution_count": 49,
   "metadata": {},
   "outputs": [],
   "source": [
    "conversational_rag_chain = RunnableWithMessageHistory(\n",
    "    rag_chain,\n",
    "    get_session_history,\n",
    "    input_messages_key=\"input\",\n",
    "    history_messages_key=\"chat_history\",\n",
    "    output_messages_key=\"answer\",\n",
    ")"
   ]
  },
  {
   "cell_type": "code",
   "execution_count": 50,
   "metadata": {},
   "outputs": [
    {
     "data": {
      "text/plain": [
       "{}"
      ]
     },
     "execution_count": 50,
     "metadata": {},
     "output_type": "execute_result"
    }
   ],
   "source": [
    "store"
   ]
  },
  {
   "cell_type": "code",
   "execution_count": 52,
   "metadata": {},
   "outputs": [
    {
     "data": {
      "text/plain": [
       "'The 1965 version of \"Arşın Mal Alan\" was directed by Tofiq Tağızadə and is considered a significant work in the history of Azerbaijani cinema. This film, like its predecessors, is based on Üzeyir Hacıbəyov\\'s musical comedy of the same name. It holds an important place in national cinema history and is regarded as a classic example of Azerbaijani cinematography. The film\\'s content, music, and performances by the actors continue to captivate audiences.'"
      ]
     },
     "execution_count": 52,
     "metadata": {},
     "output_type": "execute_result"
    }
   ],
   "source": [
    "conversational_rag_chain.invoke(\n",
    "    {\"input\": \"Talk about 1965's version of Arshin mal alan\"},\n",
    "    config={\n",
    "        \"configurable\": {\"session_id\": session_id}\n",
    "    }, \n",
    ")[\"answer\"]"
   ]
  },
  {
   "cell_type": "code",
   "execution_count": 19,
   "metadata": {},
   "outputs": [
    {
     "data": {
      "text/plain": [
       "'Your last question was: \"what are renewable energy sources?\"'"
      ]
     },
     "execution_count": 19,
     "metadata": {},
     "output_type": "execute_result"
    }
   ],
   "source": [
    "conversational_rag_chain.invoke(\n",
    "    {\"input\": \"What was my last question?\"},\n",
    "    config={\n",
    "        \"configurable\": {\"session_id\": session_id}\n",
    "        },\n",
    "        \n",
    ")[\"answer\"] "
   ]
  },
  {
   "cell_type": "code",
   "execution_count": 138,
   "metadata": {},
   "outputs": [
    {
     "name": "stdout",
     "output_type": "stream",
     "text": [
      "{'chatbot_first_session': InMemoryChatMessageHistory(messages=[HumanMessage(content='Under what ministry was AILAB established', additional_kwargs={}, response_metadata={}), AIMessage(content='AILAB was established under the Ministry of Digital Development and Transportation.', additional_kwargs={}, response_metadata={}), HumanMessage(content='What was my last question?', additional_kwargs={}, response_metadata={}), AIMessage(content='Your last question was: \"Under what ministry was AILAB established?\"', additional_kwargs={}, response_metadata={})])}\n"
     ]
    }
   ],
   "source": [
    "pprint.pprint(store)"
   ]
  },
  {
   "cell_type": "code",
   "execution_count": 139,
   "metadata": {},
   "outputs": [
    {
     "name": "stdout",
     "output_type": "stream",
     "text": [
      "HUMAN: Under what ministry was AILAB established\n",
      "AI: AILAB was established under the Ministry of Digital Development and Transportation.\n",
      "HUMAN: What was my last question?\n",
      "AI: Your last question was: \"Under what ministry was AILAB established?\"\n"
     ]
    }
   ],
   "source": [
    "for msg in store[session_id].messages:\n",
    "    print(f\"{msg.type.upper()}: {msg.content}\")\n",
    "\n",
    "response = conversational_rag_chain.invoke(\n",
    "    {\"input\": \"Can you list all questions that I've addressed to you so far?\"},\n",
    "    config={\"configurable\": {\"session_id\": session_id}},\n",
    ")[\"answer\"]\n"
   ]
  },
  {
   "cell_type": "code",
   "execution_count": null,
   "metadata": {},
   "outputs": [
    {
     "data": {
      "text/plain": [
       "[Document(id='d533ffb0-1edb-475a-af60-68e9265e4a7b', metadata={'source': 'data/data.txt'}, page_content='Azerbaijan Artificial Intelligence Lab (AILAB) was established under the Ministry of Digital Development and Transportation to set a roadmap for the development of artificial intelligence in Azerbaijan. Committed to establishing strong AI alliances within the country and the region. '),\n",
       " Document(id='aca09dbf-584c-4309-9131-f23cab36dbc5', metadata={'source': 'data/data.txt'}, page_content='\\nBlockchain technology is a decentralized ledger system that ensures secure, transparent transactions. It is the backbone of cryptocurrencies like Bitcoin and has applications in industries ranging from finance to healthcare.'),\n",
       " Document(id='7690c3b7-76b5-4acf-9e68-b315a730d221', metadata={'source': 'data/data.txt'}, page_content='\\nQuantum computing harnesses the principles of quantum mechanics to solve problems beyond the capabilities of classical computers. It has the potential to revolutionize fields like cryptography, materials science, and artificial intelligence.'),\n",
       " Document(id='8205fbbc-8bfa-48f4-9288-443d1d82044e', metadata={'source': 'data/data.txt'}, page_content='\\nSpace exploration has advanced significantly over the years, with missions to the Moon, Mars, and beyond. Technologies like reusable rockets and space telescopes are paving the way for future discoveries, deepening our understanding of the universe.')]"
      ]
     },
     "execution_count": 50,
     "metadata": {},
     "output_type": "execute_result"
    }
   ],
   "source": [
    "retriever.invoke(\n",
    "    input=\"Do you know anything about AILAB\", \n",
    "    config={}\n",
    ")"
   ]
  },
  {
   "cell_type": "code",
   "execution_count": 24,
   "metadata": {},
   "outputs": [
    {
     "name": "stdout",
     "output_type": "stream",
     "text": [
      "----\n",
      "Document:\n",
      " Azerbaijan Artificial Intelligence Lab (AILAB) was established under the Ministry of Digital Development and Transportation to set a roadmap for the development of artificial intelligence in Azerbaijan. Committed to establishing strong AI alliances within the country and the region. \n",
      "Metadata: {'source': 'data/data.txt'}\n",
      "Score: 0.88919747\n",
      "----\n",
      "Document:\n",
      " \n",
      "Blockchain technology is a decentralized ledger system that ensures secure, transparent transactions. It is the backbone of cryptocurrencies like Bitcoin and has applications in industries ranging from finance to healthcare.\n",
      "Metadata: {'source': 'data/data.txt'}\n",
      "Score: 1.7115123\n",
      "----\n",
      "Document:\n",
      " \n",
      "Quantum computing harnesses the principles of quantum mechanics to solve problems beyond the capabilities of classical computers. It has the potential to revolutionize fields like cryptography, materials science, and artificial intelligence.\n",
      "Metadata: {'source': 'data/data.txt'}\n",
      "Score: 1.7125733\n",
      "----\n",
      "Document:\n",
      " \n",
      "Space exploration has advanced significantly over the years, with missions to the Moon, Mars, and beyond. Technologies like reusable rockets and space telescopes are paving the way for future discoveries, deepening our understanding of the universe.\n",
      "Metadata: {'source': 'data/data.txt'}\n",
      "Score: 1.7228951\n"
     ]
    }
   ],
   "source": [
    "query = \"Do you know anything about AILAB\"\n",
    "docs_and_scores = vectorstore.similarity_search_with_score(query, k=4)\n",
    "\n",
    "for doc, score in docs_and_scores:\n",
    "    print(\"----\")\n",
    "    print(\"Document:\\n\", doc.page_content)\n",
    "    print(\"Metadata:\", doc.metadata)\n",
    "    print(\"Score:\", score)"
   ]
  },
  {
   "cell_type": "code",
   "execution_count": null,
   "metadata": {},
   "outputs": [],
   "source": []
  },
  {
   "cell_type": "code",
   "execution_count": null,
   "metadata": {},
   "outputs": [],
   "source": []
  }
 ],
 "metadata": {
  "kernelspec": {
   "display_name": "Python 3",
   "language": "python",
   "name": "python3"
  },
  "language_info": {
   "codemirror_mode": {
    "name": "ipython",
    "version": 3
   },
   "file_extension": ".py",
   "mimetype": "text/x-python",
   "name": "python",
   "nbconvert_exporter": "python",
   "pygments_lexer": "ipython3",
   "version": "3.12.1"
  }
 },
 "nbformat": 4,
 "nbformat_minor": 2
}
