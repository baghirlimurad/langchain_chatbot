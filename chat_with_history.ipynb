{
 "cells": [
  {
   "cell_type": "code",
   "execution_count": 1,
   "metadata": {},
   "outputs": [],
   "source": [
    "import os\n",
    "import json\n",
    "import pprint\n",
    "import docx\n",
    "\n",
    "from dotenv import load_dotenv\n",
    "\n",
    "from langchain.chains import create_history_aware_retriever, create_retrieval_chain\n",
    "from langchain.chains.combine_documents import create_stuff_documents_chain\n",
    "from langchain_community.chat_message_histories import ChatMessageHistory\n",
    "from langchain_community.document_loaders import TextLoader\n",
    "from langchain_community.document_loaders import Docx2txtLoader\n",
    "from langchain_community.vectorstores import FAISS\n",
    "from langchain_core.chat_history import BaseChatMessageHistory\n",
    "from langchain_core.prompts import ChatPromptTemplate, MessagesPlaceholder\n",
    "from langchain_core.runnables.history import RunnableWithMessageHistory\n",
    "from langchain_openai import ChatOpenAI, OpenAIEmbeddings\n",
    "from langchain_text_splitters import RecursiveCharacterTextSplitter\n",
    "\n",
    "from langchain.retrievers import ContextualCompressionRetriever\n",
    "from langchain.retrievers.document_compressors import CrossEncoderReranker\n",
    "from langchain_community.cross_encoders import HuggingFaceCrossEncoder"
   ]
  },
  {
   "cell_type": "code",
   "execution_count": 2,
   "metadata": {},
   "outputs": [],
   "source": [
    "load_dotenv()\n",
    "open_api_key = os.getenv(\"OPENAI_API_KEY\")\n",
    "if not open_api_key:\n",
    "    raise ValueError(\"OPENAI_API_KEY is not set\")"
   ]
  },
  {
   "cell_type": "code",
   "execution_count": 3,
   "metadata": {},
   "outputs": [],
   "source": [
    "loader = TextLoader(\"data/data_arshin_mal_alan.txt\", encoding=\"utf-8\")\n",
    "docs = loader.load()"
   ]
  },
  {
   "cell_type": "code",
   "execution_count": 4,
   "metadata": {},
   "outputs": [],
   "source": [
    "loader = Docx2txtLoader(\"data/data_arshin_mal_alan.docx\")\n",
    "docs = loader.load()"
   ]
  },
  {
   "cell_type": "code",
   "execution_count": 5,
   "metadata": {},
   "outputs": [],
   "source": [
    "generative_llm = ChatOpenAI(model=\"gpt-4o\", temperature=0)"
   ]
  },
  {
   "cell_type": "code",
   "execution_count": 6,
   "metadata": {},
   "outputs": [
    {
     "data": {
      "text/plain": [
       "[Document(metadata={'source': 'data/data_arshin_mal_alan.docx'}, page_content='Arşın mal alan'),\n",
       " Document(metadata={'source': 'data/data_arshin_mal_alan.docx'}, page_content='\"Arşın Mal Alan\" filmi Üzeyir Hacıbəyovun eyniadlı musiqili komediyasına əsaslanır. Bu əsər Azərbaycan kinosunda bir neçə dəfə ekranlaşdırılmışdır. Ən məşhur versiyalardan ikisi 1945-ci ildə Rza'),\n",
       " Document(metadata={'source': 'data/data_arshin_mal_alan.docx'}, page_content='Ən məşhur versiyalardan ikisi 1945-ci ildə Rza Təhmasib və Nikolay Leşşenko, digəri isə 1965-ci ildə Tofiq Tağızadə tərəfindən çəkilmişdir.'),\n",
       " Document(metadata={'source': 'data/data_arshin_mal_alan.docx'}, page_content='Filmin Tarixi və Versiyaları'),\n",
       " Document(metadata={'source': 'data/data_arshin_mal_alan.docx'}, page_content='\"Arşın Mal Alan\" operettası ilk dəfə 1913-cü ildə səhnəyə qoyulmuşdur. Bu əsər Azərbaycan teatrının klassik nümunələrindən hesab olunur. Filmin əsas mövzusu XX əsrin əvvəlində Bakıda cərəyan edir.'),\n",
       " Document(metadata={'source': 'data/data_arshin_mal_alan.docx'}, page_content='mövzusu XX əsrin əvvəlində Bakıda cərəyan edir. Gənc tacir Əsgər evlənmək fikrinə düşür, lakin dövrün qaydalarından fərqli olaraq, o, qızı toydan öncə görmək istəyir. Bu məsələni həll etməkdə dostu'),\n",
       " Document(metadata={'source': 'data/data_arshin_mal_alan.docx'}, page_content='görmək istəyir. Bu məsələni həll etməkdə dostu Süleyman ona kömək edir.'),\n",
       " Document(metadata={'source': 'data/data_arshin_mal_alan.docx'}, page_content='1945-ci İldə Çəkilmiş Film\\n\\nRejissorlar: Rza Təhmasib və Nikolay Leşşenko\\n\\n\\nƏsərin Müəllifi: Üzeyir Hacıbəyov\\n\\n\\nSsenari Müəllifi: Sabit Rəhman'),\n",
       " Document(metadata={'source': 'data/data_arshin_mal_alan.docx'}, page_content='Baş Rollarda: Rəşid Behbudov, Leyla Bədirbəyli, Ələkbər Hüseynzadə, İsmayıl Əfəndiyev, Münəvvər Kələntərli, Lütfəli Abdullayev, Fatma Mehrəliyeva, Rəhilə Mustafayeva'),\n",
       " Document(metadata={'source': 'data/data_arshin_mal_alan.docx'}, page_content='Operatorlar: Əlisəttar Atakişiyev, Muxtar Dadaşov\\n\\n\\nBəstəkar: Üzeyir Hacıbəyov\\n\\n\\nRəssam: Yuri Şvets\\n\\n\\nİstehsalçı: Bakı Kinostudiyası\\n\\n\\nİlk Baxış Tarixi: 1 oktyabr 1945'),\n",
       " Document(metadata={'source': 'data/data_arshin_mal_alan.docx'}, page_content='İlk Baxış Tarixi: 1 oktyabr 1945\\n\\n\\nFilmin Növü: Tammetrajlı bədii film\\n\\n\\nMüddət: 89 dəq.\\n\\n\\nBüdcə: 5.807.000 rubl\\n\\n\\nÖlkə: Azərbaycan SSR\\n\\n\\nDillər: Rusca (1945), Azərbaycanca (2006)'),\n",
       " Document(metadata={'source': 'data/data_arshin_mal_alan.docx'}, page_content='Dillər: Rusca (1945), Azərbaycanca (2006)\\n\\n\\nTexniki Məlumatlar: 10 hissə, 2715 metr, ağ-qara\\n\\n\\nIMDb: ID0037520'),\n",
       " Document(metadata={'source': 'data/data_arshin_mal_alan.docx'}, page_content='Bu film Azərbaycan Respublikası Nazirlər Kabinetinin 7 may 2019-cu il tarixli, 211 nömrəli Qərarı ilə dövlət varidatı elan edilmişdir. Film Sovet dövründə 136 ölkədə nümayiş etdirilmiş və 86 dilə'),\n",
       " Document(metadata={'source': 'data/data_arshin_mal_alan.docx'}, page_content='dövründə 136 ölkədə nümayiş etdirilmiş və 86 dilə tərcümə olunmuşdur.'),\n",
       " Document(metadata={'source': 'data/data_arshin_mal_alan.docx'}, page_content='1965-ci İldə Çəkilmiş Film\\n\\nRejissor: Tofiq Tağızadə\\n\\n\\nƏsərin Müəllifi: Üzeyir Hacıbəyov\\n\\n\\nSsenari Müəllifləri: Tofiq Tağızadə, Muxtar Dadaşov'),\n",
       " Document(metadata={'source': 'data/data_arshin_mal_alan.docx'}, page_content='Baş Rollarda: Həsən Məmmədov, Leyla Şıxlinskaya, Ağadadaş Qurbanov, Nəcibə Məlikova, Hacımurad Yegizarov, Xuraman Hacıyeva, Tələt Rəhmanov, Səfurə İbrahimova\\n\\n\\nOperator: İlya Minkovetski'),\n",
       " Document(metadata={'source': 'data/data_arshin_mal_alan.docx'}, page_content='Operator: İlya Minkovetski\\n\\n\\nBəstəkar: Üzeyir Hacıbəyov\\n\\n\\nRəssam: Elbəy Rzaquliyev\\n\\n\\nİstehsalçı: \"Azərbaycanfilm\" Kinostudiyası\\n\\n\\nİlk Baxış Tarixi: 1 fevral 1966'),\n",
       " Document(metadata={'source': 'data/data_arshin_mal_alan.docx'}, page_content='İlk Baxış Tarixi: 1 fevral 1966\\n\\n\\nFilmin Növü: Tammetrajlı bədii film\\n\\n\\nMüddət: 85 dəq.\\n\\n\\nÖlkə: Azərbaycan SSR\\n\\n\\nDil: Azərbaycanca\\n\\n\\nTexniki Məlumatlar: 9 hissə, 2532 metr, genişformatlı, rəngli'),\n",
       " Document(metadata={'source': 'data/data_arshin_mal_alan.docx'}, page_content='IMDb: ID1573789'),\n",
       " Document(metadata={'source': 'data/data_arshin_mal_alan.docx'}, page_content='Bu film 1967-ci ildə Tbilisidə I Zaqafqaziya və Ukrayna respublikaları filmlərinin \"Prometey-67\" zona kinofestivalında Ən yaxşı musiqili filmə görə Gürcüstan SSR Bəstəkarlar İttifaqının prizinə layiq'),\n",
       " Document(metadata={'source': 'data/data_arshin_mal_alan.docx'}, page_content='SSR Bəstəkarlar İttifaqının prizinə layiq görülmüşdür.'),\n",
       " Document(metadata={'source': 'data/data_arshin_mal_alan.docx'}, page_content='Məzmun'),\n",
       " Document(metadata={'source': 'data/data_arshin_mal_alan.docx'}, page_content='Hər iki film XX əsrin əvvəlində Bakıda baş verir. Gənc tacir Əsgər evlənmək fikrinə düşür, lakin dövrün qaydalarından fərqli olaraq, o, qızı toydan öncə görmək istəyir. Bu məsələni həll etməkdə dostu'),\n",
       " Document(metadata={'source': 'data/data_arshin_mal_alan.docx'}, page_content='görmək istəyir. Bu məsələni həll etməkdə dostu Süleyman ona kömək edir. Filmlər məhəbbət, komediya və musiqi elementlərini birləşdirir.'),\n",
       " Document(metadata={'source': 'data/data_arshin_mal_alan.docx'}, page_content='Dialoqlar və Əsas Sözlər\\n\\n1945-ci İldə Çəkilmiş Film\\n\\nƏsgər (Rəşid Behbudov): \"Mən qızla tanış ola bilməyəcəyəmmi? Qızın üzünü görməyəcəyəmmi?\"'),\n",
       " Document(metadata={'source': 'data/data_arshin_mal_alan.docx'}, page_content='Süleyman (Ələkbər Hüseynzadə): \"Sənə qızın üzünü göstərəcəyəm. Amma sənə demək lazımdır ki, bu iş çox təhlükəlidir.\"'),\n",
       " Document(metadata={'source': 'data/data_arshin_mal_alan.docx'}, page_content='Əsgər: \"Mən qızla danışacam, qızın səsini eşidəcəyəm. Qızın səsini eşidəndən sonra mənə qızın necə olduğunu deyəcəyəm.\"'),\n",
       " Document(metadata={'source': 'data/data_arshin_mal_alan.docx'}, page_content='Süleyman: \"Yaxşı, gedək. Amma sənə xəbərdarlıq edirəm, bu iş çox təhlükəlidir.\"\\n\\n\\n1965-ci İldə Çəkilmiş Film'),\n",
       " Document(metadata={'source': 'data/data_arshin_mal_alan.docx'}, page_content='1965-ci İldə Çəkilmiş Film\\n\\nƏsgər (Həsən Məmmədov): \"Süleyman, mən qızla tanış ola bilməyəcəyəmmi? Qızın üzünü görməyəcəyəmmi?\"'),\n",
       " Document(metadata={'source': 'data/data_arshin_mal_alan.docx'}, page_content='Süleyman (Ağadadaş Qurbanov): \"Sənə qızın üzünü göstərəcəyəm. Amma sənə demək lazımdır ki, bu iş çox təhlükəlidir. Əgər sənə qızın üzünü göstərsəm, sənə qızın atası tərəfindən cəza verilə bilər.\"'),\n",
       " Document(metadata={'source': 'data/data_arshin_mal_alan.docx'}, page_content='Əsgər: \"Mən qızla danışacam, qızın səsini eşidəcəyəm. Qızın səsini eşidəndən sonra mənə qızın necə olduğunu deyəcəyəm.\"'),\n",
       " Document(metadata={'source': 'data/data_arshin_mal_alan.docx'}, page_content='Süleyman: \"Yaxşı, gedək. Amma sənə xəbərdarlıq edirəm, bu iş çox təhlükəlidir.\"\\n\\n\\nFilmin Mədəni Əhəmiyyəti'),\n",
       " Document(metadata={'source': 'data/data_arshin_mal_alan.docx'}, page_content='\"Arşın Mal Alan\" filmi Azərbaycan mədəniyyətinə və kinematoqrafiyasına əhəmiyyətli töhfə vermişdir. 1945-ci il versiyası Sovet dövründə çox məşhur idi və 136 ölkədə nümayiş etdirilmişdir. 1965-ci il'),\n",
       " Document(metadata={'source': 'data/data_arshin_mal_alan.docx'}, page_content='və 136 ölkədə nümayiş etdirilmişdir. 1965-ci il versiyası isə milli kino tarixində əhəmiyyətli yer tutur.'),\n",
       " Document(metadata={'source': 'data/data_arshin_mal_alan.docx'}, page_content='Musiqi'),\n",
       " Document(metadata={'source': 'data/data_arshin_mal_alan.docx'}, page_content='Filmdəki musiqi Üzeyir Hacıbəyovun əsərlərindən ibarətdir. \"Arşın Mal Alan\" operettası Azərbaycan musiqi teatrının klassik nümunələrindən hesab olunur. Filmdəki mahnılar, xüsusilə \"Qız qalası\" və'),\n",
       " Document(metadata={'source': 'data/data_arshin_mal_alan.docx'}, page_content='Filmdəki mahnılar, xüsusilə \"Qız qalası\" və \"Süleyman\" mahnıları, izləyicilər arasında çox məşhurdur.'),\n",
       " Document(metadata={'source': 'data/data_arshin_mal_alan.docx'}, page_content='Aktyorlar\\n\\nRəşid Behbudov (1945): Əsgər rolunu ifa edən Rəşid Behbudov Azərbaycanın məşhur müğənnisi və aktyorudur.'),\n",
       " Document(metadata={'source': 'data/data_arshin_mal_alan.docx'}, page_content='Leyla Bədirbəyli (1945): Qız rolunu ifa edən Leyla Bədirbəyli Azərbaycanın məşhur aktrisalarından biridir.'),\n",
       " Document(metadata={'source': 'data/data_arshin_mal_alan.docx'}, page_content='Həsən Məmmədov (1965): Əsgər rolunu ifa edən Həsən Məmmədov Azərbaycanın məşhur aktyorlarından biridir.'),\n",
       " Document(metadata={'source': 'data/data_arshin_mal_alan.docx'}, page_content='Leyla Şıxlinskaya (1965): Qız rolunu ifa edən Leyla Şıxlinskaya Azərbaycanın məşhur aktrisalarından biridir.\\n\\n\\nFilmin Qəbulu'),\n",
       " Document(metadata={'source': 'data/data_arshin_mal_alan.docx'}, page_content='Filmin Qəbulu\\n\\n\"Arşın Mal Alan\" filmi hər iki versiyada izləyicilər tərəfindən yaxşı qarşılanmışdır. Filmin musiqili komediya janrı, yumorlu dialoqları və məhəbbət mövzusu izləyiciləri cəlb edir.'),\n",
       " Document(metadata={'source': 'data/data_arshin_mal_alan.docx'}, page_content='Nəticə'),\n",
       " Document(metadata={'source': 'data/data_arshin_mal_alan.docx'}, page_content='\"Arşın Mal Alan\" filmi Azərbaycan kinematoqrafiyasının klassik nümunələrindən hesab olunur. Filmin məzmunu, musiqisi və aktyorların ifası izləyiciləri həmişə cəlb edir. Filmin hər iki versiyası milli'),\n",
       " Document(metadata={'source': 'data/data_arshin_mal_alan.docx'}, page_content='həmişə cəlb edir. Filmin hər iki versiyası milli kino tarixində əhəmiyyətli yer tutur.'),\n",
       " Document(metadata={'source': 'data/data_arshin_mal_alan.docx'}, page_content='Filmin Təsiri'),\n",
       " Document(metadata={'source': 'data/data_arshin_mal_alan.docx'}, page_content='\"Arşın Mal Alan\" filmi Azərbaycan mədəniyyətinə və kinematoqrafiyasına əhəmiyyətli töhfə vermişdir. Bu film Azərbaycanın milli kimliyini və mədəni irsini dünya miqyasında tanıtmışdır. Filmin musiqisi'),\n",
       " Document(metadata={'source': 'data/data_arshin_mal_alan.docx'}, page_content='dünya miqyasında tanıtmışdır. Filmin musiqisi və məzmunu izləyicilərə Azərbaycanın zəngin mədəni irsini göstərir.'),\n",
       " Document(metadata={'source': 'data/data_arshin_mal_alan.docx'}, page_content='Beynəlxalq Nümayişlər\\n\\n1945-ci il versiyası Sovet dövründə çox məşhur idi və 136 ölkədə nümayiş etdirilmişdir. Bu, Azərbaycan kinematoqrafiyasının beynəlxalq səviyyədə tanınmasına kömək etmişdir.'),\n",
       " Document(metadata={'source': 'data/data_arshin_mal_alan.docx'}, page_content='Milli Kinematoqrafiya\\n\\n\"Arşın Mal Alan\" filmi milli kinematoqrafiyanın inkişafında mühüm rol oynamışdır. Filmin müvəffəqiyyəti Azərbaycan kinematoqrafiyasının inkişafına təkan vermişdir.\\n\\nMədəni İrs'),\n",
       " Document(metadata={'source': 'data/data_arshin_mal_alan.docx'}, page_content='Mədəni İrs\\n\\nFilmin məzmunu və musiqisi Azərbaycanın mədəni irsinə aid edilir. \"Arşın Mal Alan\" operettası Azərbaycan musiqi teatrının klassik nümunələrindən hesab olunur.\\n\\nNövbəti Nəsillərə Təsiri'),\n",
       " Document(metadata={'source': 'data/data_arshin_mal_alan.docx'}, page_content='Növbəti Nəsillərə Təsiri\\n\\n\"Arşın Mal Alan\" filmi növbəti nəsillərə də təsirini davam etdirir. Filmin məzmunu və musiqisi gənclər arasında çox məşhurdur.\\n\\nFilmin Yenidən Bərpası'),\n",
       " Document(metadata={'source': 'data/data_arshin_mal_alan.docx'}, page_content='Son illərdə \"Arşın Mal Alan\" filminin yenidən bərpası məsələsi aktualdır. Filmin rəngləndirilməsi və yeni formatda nümayişi planlaşdırılır. Bu, filmin daha geniş auditoriya tərəfindən qəbuluna kömək'),\n",
       " Document(metadata={'source': 'data/data_arshin_mal_alan.docx'}, page_content='daha geniş auditoriya tərəfindən qəbuluna kömək edəcəkdir.'),\n",
       " Document(metadata={'source': 'data/data_arshin_mal_alan.docx'}, page_content='Texniki Yeniləmə\\n\\nFilmin texniki yeniləməsi, o cümlədən rəngləndirilməsi və yeni formatda nümayişi, filmin keyfiyyətini yaxşılaşdıracaq və daha gənc izləyicilərə çatdırılmasına kömək edəcəkdir.'),\n",
       " Document(metadata={'source': 'data/data_arshin_mal_alan.docx'}, page_content='Mədəni Tədbirlər\\n\\n\"Arşın Mal Alan\" filminə həsr olunmuş mədəni tədbirlər keçirilir. Bu tədbirlər filmin mədəni əhəmiyyətini daha da artırır.\\n\\nTəhsil Prosesində İstifadə'),\n",
       " Document(metadata={'source': 'data/data_arshin_mal_alan.docx'}, page_content='Təhsil Prosesində İstifadə\\n\\nFilmin mövzusu və məzmunu təhsil prosesində istifadə olunur. Bu, gənclərə Azərbaycan mədəniyyəti və tarixi haqqında daha çox məlumat verməyə kömək edir.\\n\\nNəticə'),\n",
       " Document(metadata={'source': 'data/data_arshin_mal_alan.docx'}, page_content='\"Arşın Mal Alan\" filmi Azərbaycan kinematoqrafiyasının klassik nümunələrindən hesab olunur. Filmin məzmunu, musiqisi və aktyorların ifası izləyiciləri həmişə cəlb edir. Filmin hər iki versiyası milli'),\n",
       " Document(metadata={'source': 'data/data_arshin_mal_alan.docx'}, page_content='həmişə cəlb edir. Filmin hər iki versiyası milli kino tarixində əhəmiyyətli yer tutur. Filmin yenidən bərpası və texniki yeniləməsi, filmin daha geniş auditoriya tərəfindən qəbuluna kömək edəcəkdir.')]"
      ]
     },
     "execution_count": 6,
     "metadata": {},
     "output_type": "execute_result"
    }
   ],
   "source": [
    "text_splitter = RecursiveCharacterTextSplitter(\n",
    "    chunk_size=200, \n",
    "    chunk_overlap=50,\n",
    "    # separators=[\"\\n\"]\n",
    ")   \n",
    "\n",
    "splits = text_splitter.split_documents(docs)\n",
    "splits"
   ]
  },
  {
   "cell_type": "code",
   "execution_count": 7,
   "metadata": {},
   "outputs": [
    {
     "name": "stderr",
     "output_type": "stream",
     "text": [
      "c:\\Users\\murad\\AppData\\Local\\Programs\\Python\\Python312\\Lib\\site-packages\\sentence_transformers\\cross_encoder\\CrossEncoder.py:11: TqdmExperimentalWarning: Using `tqdm.autonotebook.tqdm` in notebook mode. Use `tqdm.tqdm` instead to force console mode (e.g. in jupyter console)\n",
      "  from tqdm.autonotebook import tqdm, trange\n"
     ]
    },
    {
     "data": {
      "application/vnd.jupyter.widget-view+json": {
       "model_id": "e410ffef3efa4d37a2244d70ea2204f3",
       "version_major": 2,
       "version_minor": 0
      },
      "text/plain": [
       "config.json:   0%|          | 0.00/794 [00:00<?, ?B/s]"
      ]
     },
     "metadata": {},
     "output_type": "display_data"
    },
    {
     "name": "stderr",
     "output_type": "stream",
     "text": [
      "c:\\Users\\murad\\AppData\\Local\\Programs\\Python\\Python312\\Lib\\site-packages\\huggingface_hub\\file_download.py:159: UserWarning: `huggingface_hub` cache-system uses symlinks by default to efficiently store duplicated files but your machine does not support them in C:\\Users\\murad\\.cache\\huggingface\\hub\\models--cross-encoder--ms-marco-MiniLM-L-2-v2. Caching files will still work but in a degraded version that might require more space on your disk. This warning can be disabled by setting the `HF_HUB_DISABLE_SYMLINKS_WARNING` environment variable. For more details, see https://huggingface.co/docs/huggingface_hub/how-to-cache#limitations.\n",
      "To support symlinks on Windows, you either need to activate Developer Mode or to run Python as an administrator. In order to see activate developer mode, see this article: https://docs.microsoft.com/en-us/windows/apps/get-started/enable-your-device-for-development\n",
      "  warnings.warn(message)\n"
     ]
    },
    {
     "data": {
      "application/vnd.jupyter.widget-view+json": {
       "model_id": "e3619b51c2804233ae5bb6f5fe309c93",
       "version_major": 2,
       "version_minor": 0
      },
      "text/plain": [
       "model.safetensors:   0%|          | 0.00/62.5M [00:00<?, ?B/s]"
      ]
     },
     "metadata": {},
     "output_type": "display_data"
    },
    {
     "data": {
      "application/vnd.jupyter.widget-view+json": {
       "model_id": "538209cd0b9140c1b49e4ab3f9c23252",
       "version_major": 2,
       "version_minor": 0
      },
      "text/plain": [
       "tokenizer_config.json:   0%|          | 0.00/1.33k [00:00<?, ?B/s]"
      ]
     },
     "metadata": {},
     "output_type": "display_data"
    },
    {
     "data": {
      "application/vnd.jupyter.widget-view+json": {
       "model_id": "4c51f20bd7164b84ad78c4a31b0d0d92",
       "version_major": 2,
       "version_minor": 0
      },
      "text/plain": [
       "vocab.txt:   0%|          | 0.00/232k [00:00<?, ?B/s]"
      ]
     },
     "metadata": {},
     "output_type": "display_data"
    },
    {
     "data": {
      "application/vnd.jupyter.widget-view+json": {
       "model_id": "192508f617e349d19f3417e60ddec9b5",
       "version_major": 2,
       "version_minor": 0
      },
      "text/plain": [
       "tokenizer.json:   0%|          | 0.00/711k [00:00<?, ?B/s]"
      ]
     },
     "metadata": {},
     "output_type": "display_data"
    },
    {
     "data": {
      "application/vnd.jupyter.widget-view+json": {
       "model_id": "1a5c4c99d5cb4b20aca39d7be7c1c281",
       "version_major": 2,
       "version_minor": 0
      },
      "text/plain": [
       "special_tokens_map.json:   0%|          | 0.00/132 [00:00<?, ?B/s]"
      ]
     },
     "metadata": {},
     "output_type": "display_data"
    }
   ],
   "source": [
    "vectorstore = FAISS.from_documents(\n",
    "    documents=splits, \n",
    "    embedding=OpenAIEmbeddings(model=\"text-embedding-3-large\")\n",
    ")\n",
    "retriever = vectorstore.as_retriever()\n",
    "# retriever=vectorstore.as_retriever(search_type=\"similarity_score_threshold\", search_kwargs={\n",
    "#                               'score_threshold': 0.5})\n",
    "\n",
    "model = HuggingFaceCrossEncoder(model_name=\"cross-encoder/ms-marco-MiniLM-L-2-v2\")\n",
    "compressor = CrossEncoderReranker(model=model, top_n=3)\n",
    "compression_retriever = ContextualCompressionRetriever(\n",
    "    base_compressor=compressor, base_retriever=retriever\n",
    ")"
   ]
  },
  {
   "cell_type": "code",
   "execution_count": 8,
   "metadata": {},
   "outputs": [],
   "source": [
    "# Some useful db operations\n",
    "\n",
    "# vectorstore.index.reset()\n",
    "# vectorstore.index.ntotal\n",
    "# vectorstore.index.reconstruct(0)"
   ]
  },
  {
   "cell_type": "code",
   "execution_count": 9,
   "metadata": {},
   "outputs": [
    {
     "data": {
      "text/plain": [
       "ContextualCompressionRetriever(base_compressor=CrossEncoderReranker(model=HuggingFaceCrossEncoder(client=<sentence_transformers.cross_encoder.CrossEncoder.CrossEncoder object at 0x000001A11D0F5670>, model_name='cross-encoder/ms-marco-MiniLM-L-2-v2', model_kwargs={}), top_n=3), base_retriever=VectorStoreRetriever(tags=['FAISS', 'OpenAIEmbeddings'], vectorstore=<langchain_community.vectorstores.faiss.FAISS object at 0x000001A17987C3B0>, search_kwargs={}))"
      ]
     },
     "execution_count": 9,
     "metadata": {},
     "output_type": "execute_result"
    }
   ],
   "source": [
    "compression_retriever"
   ]
  },
  {
   "cell_type": "code",
   "execution_count": 10,
   "metadata": {},
   "outputs": [],
   "source": [
    "### Contextualize question ###\n",
    "contextualize_q_system_prompt = \"\"\"Given a chat history and the latest user question \\\n",
    "which might reference context in the chat history, formulate a standalone question \\\n",
    "which can be understood without the chat history. Do NOT answer the question, \\\n",
    "just reformulate it if needed and otherwise return it as is.\"\"\"\n",
    "\n",
    "contextualize_q_prompt = ChatPromptTemplate.from_messages(\n",
    "    [\n",
    "        (\"system\", contextualize_q_system_prompt),\n",
    "        MessagesPlaceholder(\"chat_history\"),\n",
    "        (\"human\", \"{input}\"),\n",
    "    ]\n",
    ")"
   ]
  },
  {
   "cell_type": "code",
   "execution_count": 11,
   "metadata": {},
   "outputs": [],
   "source": [
    "history_aware_retriever = create_history_aware_retriever(\n",
    "    generative_llm, compression_retriever, contextualize_q_prompt\n",
    ")"
   ]
  },
  {
   "cell_type": "code",
   "execution_count": 12,
   "metadata": {},
   "outputs": [],
   "source": [
    "### Answer question ###\n",
    "qa_system_prompt = \"\"\"You are an assistant for question-answering tasks. \\\n",
    "Use ONLY the provided retrieved context to answer the question. \\\n",
    "If the context does not contain relevant information, simply respond with: \\\n",
    "\"I don’t know based on the given information.\" \\\n",
    "\n",
    "Retrieved context: \n",
    "{context}\"\"\"\n",
    "\n",
    "qa_prompt = ChatPromptTemplate.from_messages(\n",
    "    [\n",
    "        (\"system\", qa_system_prompt),\n",
    "        MessagesPlaceholder(\"chat_history\"),\n",
    "        (\"human\", \"{input}\"),\n",
    "    ]\n",
    ")\n",
    "\n",
    "question_answer_chain = create_stuff_documents_chain(generative_llm, qa_prompt)\n",
    "rag_chain = create_retrieval_chain(history_aware_retriever, question_answer_chain)"
   ]
  },
  {
   "cell_type": "code",
   "execution_count": 13,
   "metadata": {},
   "outputs": [],
   "source": [
    "### Statefully manage chat history ###\n",
    "store = {}\n",
    "session_id = \"chatbot_first_session\"\n",
    "\n",
    "def get_session_history(session_id: str) -> BaseChatMessageHistory:\n",
    "    if session_id not in store:\n",
    "        store[session_id] = ChatMessageHistory()\n",
    "    return store[session_id]"
   ]
  },
  {
   "cell_type": "code",
   "execution_count": 14,
   "metadata": {},
   "outputs": [],
   "source": [
    "conversational_rag_chain = RunnableWithMessageHistory(\n",
    "    rag_chain,\n",
    "    get_session_history,\n",
    "    input_messages_key=\"input\",\n",
    "    history_messages_key=\"chat_history\",\n",
    "    output_messages_key=\"answer\",\n",
    ")"
   ]
  },
  {
   "cell_type": "code",
   "execution_count": 15,
   "metadata": {},
   "outputs": [
    {
     "data": {
      "text/plain": [
       "{}"
      ]
     },
     "execution_count": 15,
     "metadata": {},
     "output_type": "execute_result"
    }
   ],
   "source": [
    "store"
   ]
  },
  {
   "cell_type": "code",
   "execution_count": 16,
   "metadata": {},
   "outputs": [
    {
     "data": {
      "text/plain": [
       "'\"Arşın Mal Alan\" filmi Azərbaycan mədəniyyətinə və kinematoqrafiyasına əhəmiyyətli töhfə vermişdir. Bu film Azərbaycanın milli kimliyini və mədəni irsini dünya miqyasında tanıtmışdır. Filmin musiqisi də bu prosesdə mühüm rol oynayır. Son illərdə filmin yenidən bərpası məsələsi aktualdır və rəngləndirilməsi, yeni formatda nümayişi planlaşdırılır ki, bu da filmin daha geniş auditoriya tərəfindən qəbuluna kömək edəcək. Həmçinin, filmə həsr olunmuş mədəni tədbirlər keçirilir ki, bu da onun mədəni əhəmiyyətini daha da artırır.'"
      ]
     },
     "execution_count": 16,
     "metadata": {},
     "output_type": "execute_result"
    }
   ],
   "source": [
    "conversational_rag_chain.invoke(\n",
    "    {\"input\": \"Arşın mal alan barədə məlumat ver\"},\n",
    "    config={\n",
    "        \"configurable\": {\"session_id\": session_id}\n",
    "    }, \n",
    ")[\"answer\"]"
   ]
  },
  {
   "cell_type": "code",
   "execution_count": 17,
   "metadata": {},
   "outputs": [
    {
     "data": {
      "text/plain": [
       "'\"Arşın mal alan\" barədə məlumat ver.'"
      ]
     },
     "execution_count": 17,
     "metadata": {},
     "output_type": "execute_result"
    }
   ],
   "source": [
    "conversational_rag_chain.invoke(\n",
    "    {\"input\": \"Son sualımı təkrarla?\"},\n",
    "    config={\n",
    "        \"configurable\": {\"session_id\": session_id}\n",
    "        },\n",
    "        \n",
    ")[\"answer\"] "
   ]
  },
  {
   "cell_type": "code",
   "execution_count": 18,
   "metadata": {},
   "outputs": [
    {
     "name": "stdout",
     "output_type": "stream",
     "text": [
      "{'chatbot_first_session': InMemoryChatMessageHistory(messages=[HumanMessage(content='Arşın mal alan barədə məlumat ver', additional_kwargs={}, response_metadata={}), AIMessage(content='\"Arşın Mal Alan\" filmi Azərbaycan mədəniyyətinə və kinematoqrafiyasına əhəmiyyətli töhfə vermişdir. Bu film Azərbaycanın milli kimliyini və mədəni irsini dünya miqyasında tanıtmışdır. Filmin musiqisi də bu prosesdə mühüm rol oynayır. Son illərdə filmin yenidən bərpası məsələsi aktualdır və rəngləndirilməsi, yeni formatda nümayişi planlaşdırılır ki, bu da filmin daha geniş auditoriya tərəfindən qəbuluna kömək edəcək. Həmçinin, filmə həsr olunmuş mədəni tədbirlər keçirilir ki, bu da onun mədəni əhəmiyyətini daha da artırır.', additional_kwargs={}, response_metadata={}), HumanMessage(content='Son sualımı təkrarla?', additional_kwargs={}, response_metadata={}), AIMessage(content='\"Arşın mal alan\" barədə məlumat ver.', additional_kwargs={}, response_metadata={})])}\n"
     ]
    }
   ],
   "source": [
    "pprint.pprint(store)"
   ]
  },
  {
   "cell_type": "code",
   "execution_count": 19,
   "metadata": {},
   "outputs": [
    {
     "name": "stdout",
     "output_type": "stream",
     "text": [
      "HUMAN: Arşın mal alan barədə məlumat ver\n",
      "AI: \"Arşın Mal Alan\" filmi Azərbaycan mədəniyyətinə və kinematoqrafiyasına əhəmiyyətli töhfə vermişdir. Bu film Azərbaycanın milli kimliyini və mədəni irsini dünya miqyasında tanıtmışdır. Filmin musiqisi də bu prosesdə mühüm rol oynayır. Son illərdə filmin yenidən bərpası məsələsi aktualdır və rəngləndirilməsi, yeni formatda nümayişi planlaşdırılır ki, bu da filmin daha geniş auditoriya tərəfindən qəbuluna kömək edəcək. Həmçinin, filmə həsr olunmuş mədəni tədbirlər keçirilir ki, bu da onun mədəni əhəmiyyətini daha da artırır.\n",
      "HUMAN: Son sualımı təkrarla?\n",
      "AI: \"Arşın mal alan\" barədə məlumat ver.\n"
     ]
    }
   ],
   "source": [
    "for msg in store[session_id].messages:\n",
    "    print(f\"{msg.type.upper()}: {msg.content}\")\n",
    "\n",
    "response = conversational_rag_chain.invoke(\n",
    "    {\"input\": \"Can you list all questions that I've addressed to you so far?\"},\n",
    "    config={\"configurable\": {\"session_id\": session_id}},\n",
    ")[\"answer\"]\n"
   ]
  },
  {
   "cell_type": "code",
   "execution_count": 20,
   "metadata": {},
   "outputs": [
    {
     "data": {
      "text/plain": [
       "[Document(id='0d7094fd-8a4b-4f09-a0ec-711969cff58f', metadata={'source': 'data/data_arshin_mal_alan.docx'}, page_content='IMDb: ID1573789'),\n",
       " Document(id='8e7f580a-6c80-4d8a-af39-2be216399115', metadata={'source': 'data/data_arshin_mal_alan.docx'}, page_content='Mədəni Tədbirlər\\n\\n\"Arşın Mal Alan\" filminə həsr olunmuş mədəni tədbirlər keçirilir. Bu tədbirlər filmin mədəni əhəmiyyətini daha da artırır.\\n\\nTəhsil Prosesində İstifadə'),\n",
       " Document(id='0b381dfb-d94b-4793-9d88-5ce57ca901c2', metadata={'source': 'data/data_arshin_mal_alan.docx'}, page_content='Arşın mal alan'),\n",
       " Document(id='dea63a8f-3952-426d-9046-eac0168626e4', metadata={'source': 'data/data_arshin_mal_alan.docx'}, page_content='Baş Rollarda: Həsən Məmmədov, Leyla Şıxlinskaya, Ağadadaş Qurbanov, Nəcibə Məlikova, Hacımurad Yegizarov, Xuraman Hacıyeva, Tələt Rəhmanov, Səfurə İbrahimova\\n\\n\\nOperator: İlya Minkovetski')]"
      ]
     },
     "execution_count": 20,
     "metadata": {},
     "output_type": "execute_result"
    }
   ],
   "source": [
    "retriever.invoke(\n",
    "    input=\"Do you know anything about AILAB\", \n",
    "    config={}\n",
    ")"
   ]
  },
  {
   "cell_type": "code",
   "execution_count": 23,
   "metadata": {},
   "outputs": [
    {
     "name": "stdout",
     "output_type": "stream",
     "text": [
      "----\n",
      "Document:\n",
      " Musiqi\n",
      "Metadata: {'source': 'data/data_arshin_mal_alan.docx'}\n",
      "Score: 0.7893481\n",
      "----\n",
      "Document:\n",
      " Məzmun\n",
      "Metadata: {'source': 'data/data_arshin_mal_alan.docx'}\n",
      "Score: 0.8806992\n",
      "----\n",
      "Document:\n",
      " daha geniş auditoriya tərəfindən qəbuluna kömək edəcəkdir.\n",
      "Metadata: {'source': 'data/data_arshin_mal_alan.docx'}\n",
      "Score: 1.1139009\n",
      "----\n",
      "Document:\n",
      " Filmin Təsiri\n",
      "Metadata: {'source': 'data/data_arshin_mal_alan.docx'}\n",
      "Score: 1.1199505\n",
      "----\n",
      "Document:\n",
      " dünya miqyasında tanıtmışdır. Filmin musiqisi və məzmunu izləyicilərə Azərbaycanın zəngin mədəni irsini göstərir.\n",
      "Metadata: {'source': 'data/data_arshin_mal_alan.docx'}\n",
      "Score: 1.1260152\n"
     ]
    }
   ],
   "source": [
    "query = \"musiqini kim bəstələyib\"\n",
    "docs_and_scores = vectorstore.similarity_search_with_score(query, k=5)\n",
    "\n",
    "for doc, score in docs_and_scores:\n",
    "    print(\"----\")\n",
    "    print(\"Document:\\n\", doc.page_content)\n",
    "    print(\"Metadata:\", doc.metadata)\n",
    "    print(\"Score:\", score)"
   ]
  },
  {
   "cell_type": "code",
   "execution_count": null,
   "metadata": {},
   "outputs": [],
   "source": []
  },
  {
   "cell_type": "code",
   "execution_count": null,
   "metadata": {},
   "outputs": [],
   "source": []
  }
 ],
 "metadata": {
  "kernelspec": {
   "display_name": "Python 3",
   "language": "python",
   "name": "python3"
  },
  "language_info": {
   "codemirror_mode": {
    "name": "ipython",
    "version": 3
   },
   "file_extension": ".py",
   "mimetype": "text/x-python",
   "name": "python",
   "nbconvert_exporter": "python",
   "pygments_lexer": "ipython3",
   "version": "3.12.1"
  }
 },
 "nbformat": 4,
 "nbformat_minor": 2
}
