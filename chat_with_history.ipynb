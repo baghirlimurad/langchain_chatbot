{
 "cells": [
  {
   "cell_type": "code",
   "execution_count": 44,
   "metadata": {},
   "outputs": [],
   "source": [
    "import bs4\n",
    "import os\n",
    "from dotenv import load_dotenv\n",
    "\n",
    "from langchain.chains import create_history_aware_retriever, create_retrieval_chain\n",
    "from langchain.chains.combine_documents import create_stuff_documents_chain\n",
    "from langchain_community.vectorstores import FAISS\n",
    "from langchain_community.chat_message_histories import ChatMessageHistory\n",
    "from langchain_community.document_loaders import TextLoader\n",
    "from langchain_core.chat_history import BaseChatMessageHistory\n",
    "from langchain_core.prompts import ChatPromptTemplate, MessagesPlaceholder\n",
    "from langchain_core.runnables.history import RunnableWithMessageHistory\n",
    "from langchain_openai import ChatOpenAI, OpenAIEmbeddings\n",
    "from langchain_text_splitters import RecursiveCharacterTextSplitter"
   ]
  },
  {
   "cell_type": "code",
   "execution_count": 45,
   "metadata": {},
   "outputs": [],
   "source": [
    "load_dotenv()\n",
    "open_api_key = os.getenv(\"OPENAI_API_KEY\")\n",
    "if not open_api_key:\n",
    "    raise ValueError(\"OPENAI_API_KEY is not set\")"
   ]
  },
  {
   "cell_type": "code",
   "execution_count": 46,
   "metadata": {},
   "outputs": [],
   "source": [
    "loader = TextLoader(\"data/data.txt\", encoding=\"utf-8\")\n",
    "docs = loader.load()"
   ]
  },
  {
   "cell_type": "code",
   "execution_count": 47,
   "metadata": {},
   "outputs": [],
   "source": [
    "llm = ChatOpenAI(model=\"gpt-4o\", temperature=0)"
   ]
  },
  {
   "cell_type": "code",
   "execution_count": 48,
   "metadata": {},
   "outputs": [],
   "source": [
    "text_splitter = RecursiveCharacterTextSplitter(\n",
    "    chunk_size=100, chunk_overlap=20\n",
    ")\n",
    "\n",
    "splits = text_splitter.split_documents(docs)\n",
    "vectorstore = FAISS.from_documents(documents=splits, embedding=OpenAIEmbeddings(model=\"text-embedding-3-large\"))\n",
    "# retriever = vectorstore.as_retriever()\n",
    "retriever=vectorstore.as_retriever(search_type=\"similarity_score_threshold\", search_kwargs={\n",
    "                              'score_threshold': 0.5})\n"
   ]
  },
  {
   "cell_type": "code",
   "execution_count": 49,
   "metadata": {},
   "outputs": [],
   "source": [
    "# vectorstore.index.reset()"
   ]
  },
  {
   "cell_type": "code",
   "execution_count": 50,
   "metadata": {},
   "outputs": [
    {
     "data": {
      "text/plain": [
       "[Document(metadata={'source': 'data/data.txt'}, page_content='The Artificial Intelligence Lab was established under the Ministry of Digital Development and'),\n",
       " Document(metadata={'source': 'data/data.txt'}, page_content='Development and Transportation to set a roadmap for the development of artificial intelligence in'),\n",
       " Document(metadata={'source': 'data/data.txt'}, page_content='intelligence in Azerbaijan. Committed to establishing strong AI alliances within the country and'),\n",
       " Document(metadata={'source': 'data/data.txt'}, page_content='the country and the region. This collaborative approach allows us to share knowledge, resources,'),\n",
       " Document(metadata={'source': 'data/data.txt'}, page_content='resources, and insights to propel AI advancements. Dedicated to pushing the boundaries of AI'),\n",
       " Document(metadata={'source': 'data/data.txt'}, page_content='boundaries of AI innovation. Our team strives to contribute expertise and ideas to advance AI'),\n",
       " Document(metadata={'source': 'data/data.txt'}, page_content='ideas to advance AI technologies, and we actively support research, development, and'),\n",
       " Document(metadata={'source': 'data/data.txt'}, page_content='development, and experimentation in the field. Continuous learning is fundamental to our mission.'),\n",
       " Document(metadata={'source': 'data/data.txt'}, page_content='to our mission. We offer top-tier AI training opportunities accessible to all and actively promote'),\n",
       " Document(metadata={'source': 'data/data.txt'}, page_content=\"actively promote lifelong learning in AI-related skills. At the Artificial Intelligence Lab, we're\"),\n",
       " Document(metadata={'source': 'data/data.txt'}, page_content=\"Lab, we're shaping the future of AI with passion, innovation, and a commitment to relentless\"),\n",
       " Document(metadata={'source': 'data/data.txt'}, page_content='to relentless progress.')]"
      ]
     },
     "execution_count": 50,
     "metadata": {},
     "output_type": "execute_result"
    }
   ],
   "source": [
    "splits"
   ]
  },
  {
   "cell_type": "code",
   "execution_count": 51,
   "metadata": {},
   "outputs": [],
   "source": [
    "### Contextualize question ###\n",
    "contextualize_q_system_prompt = \"\"\"Given a chat history and the latest user question \\\n",
    "which might reference context in the chat history, formulate a standalone question \\\n",
    "which can be understood without the chat history. Do NOT answer the question, \\\n",
    "just reformulate it if needed and otherwise return it as is.\"\"\"\n",
    "\n",
    "contextualize_q_prompt = ChatPromptTemplate.from_messages(\n",
    "    [\n",
    "        (\"system\", contextualize_q_system_prompt),\n",
    "        MessagesPlaceholder(\"chat_history\"),\n",
    "        (\"human\", \"{input}\"),\n",
    "    ]\n",
    ")\n",
    "\n",
    "history_aware_retriever = create_history_aware_retriever(\n",
    "    llm, retriever, contextualize_q_prompt\n",
    ")\n",
    "\n",
    "### Answer question ###\n",
    "qa_system_prompt = \"\"\"You are an assistant for question-answering tasks. \\\n",
    "Use the following pieces of retrieved context to answer the question. \\\n",
    "If you don't know the answer, just say that you don't know. \\\n",
    "Use three sentences maximum and keep the answer concise.\\\n",
    "\n",
    "{context}\"\"\"\n",
    "qa_prompt = ChatPromptTemplate.from_messages(\n",
    "    [\n",
    "        (\"system\", qa_system_prompt),\n",
    "        MessagesPlaceholder(\"chat_history\"),\n",
    "        (\"human\", \"{input}\"),\n",
    "    ]\n",
    ")\n",
    "question_answer_chain = create_stuff_documents_chain(llm, qa_prompt)\n",
    "\n",
    "rag_chain = create_retrieval_chain(history_aware_retriever, question_answer_chain)\n",
    "\n",
    "\n",
    "### Statefully manage chat history ###\n",
    "store = {}\n",
    "\n",
    "\n",
    "def get_session_history(session_id: str) -> BaseChatMessageHistory:\n",
    "    if session_id not in store:\n",
    "        store[session_id] = ChatMessageHistory()\n",
    "    return store[session_id]\n",
    "\n",
    "\n",
    "conversational_rag_chain = RunnableWithMessageHistory(\n",
    "    rag_chain,\n",
    "    get_session_history,\n",
    "    input_messages_key=\"input\",\n",
    "    history_messages_key=\"chat_history\",\n",
    "    output_messages_key=\"answer\",\n",
    ")"
   ]
  },
  {
   "cell_type": "code",
   "execution_count": 56,
   "metadata": {},
   "outputs": [
    {
     "data": {
      "text/plain": [
       "{'abc123': InMemoryChatMessageHistory(messages=[HumanMessage(content='Under which ministry is AILab established?', additional_kwargs={}, response_metadata={}), AIMessage(content='AILab is established under the Ministry of Electronics and Information Technology.', additional_kwargs={}, response_metadata={}), HumanMessage(content='Under which ministry is Artificial Intelligence Lab established?', additional_kwargs={}, response_metadata={}), AIMessage(content='The Artificial Intelligence Lab is established under the Ministry of Digital Development.', additional_kwargs={}, response_metadata={})])}"
      ]
     },
     "execution_count": 56,
     "metadata": {},
     "output_type": "execute_result"
    }
   ],
   "source": [
    "store"
   ]
  },
  {
   "cell_type": "code",
   "execution_count": 53,
   "metadata": {},
   "outputs": [
    {
     "data": {
      "text/plain": [
       "'The Artificial Intelligence Lab is established under the Ministry of Digital Development.'"
      ]
     },
     "execution_count": 53,
     "metadata": {},
     "output_type": "execute_result"
    }
   ],
   "source": [
    "conversational_rag_chain.invoke(\n",
    "    {\"input\": \"Under which ministry is Artificial Intelligence Lab established?\"},\n",
    "    config={\n",
    "        \"configurable\": {\"session_id\": \"abc123\"}\n",
    "    },  # constructs a key \"abc123\" in `store`.\n",
    ")[\"answer\"]"
   ]
  },
  {
   "cell_type": "code",
   "execution_count": 43,
   "metadata": {},
   "outputs": [
    {
     "name": "stderr",
     "output_type": "stream",
     "text": [
      "c:\\Users\\murad\\AppData\\Local\\Programs\\Python\\Python312\\Lib\\site-packages\\langchain_core\\vectorstores\\base.py:1076: UserWarning: Relevance scores must be between 0 and 1, got [(Document(id='01ba18bb-88b3-4901-9bf8-2cef2004aa19', metadata={'source': 'data/data.txt'}, page_content='to relentless progress.'), -0.31609333881621704), (Document(id='c2e1784f-95f3-4265-b9a4-35a9012c2c2b', metadata={'source': 'data/data.txt'}, page_content='development, and experimentation in the field. Continuous learning is fundamental to our mission.'), -0.35250779446114433), (Document(id='a83df59d-d60b-4040-b085-bf0d62af01f5', metadata={'source': 'data/data.txt'}, page_content='intelligence in Azerbaijan. Committed to establishing strong AI alliances within the country and'), -0.3603611010378762), (Document(id='a965a0ea-a26d-4263-90cb-894c1f33a329', metadata={'source': 'data/data.txt'}, page_content='The Artificial Intelligence Lab was established under the Ministry of Digital Development and'), -0.36578969941977646)]\n",
      "  self.vectorstore.similarity_search_with_relevance_scores(\n",
      "No relevant docs were retrieved using the relevance score threshold 0.5\n"
     ]
    },
    {
     "data": {
      "text/plain": [
       "'Your last question was: \"Who is the president of the United States?\"'"
      ]
     },
     "execution_count": 43,
     "metadata": {},
     "output_type": "execute_result"
    }
   ],
   "source": [
    "conversational_rag_chain.invoke(\n",
    "    {\"input\": \"What was my last question?\"},\n",
    "    config={\"configurable\": {\"session_id\": \"abc123\"}},\n",
    ")[\"answer\"] "
   ]
  },
  {
   "cell_type": "code",
   "execution_count": null,
   "metadata": {},
   "outputs": [],
   "source": []
  }
 ],
 "metadata": {
  "kernelspec": {
   "display_name": "Python 3",
   "language": "python",
   "name": "python3"
  },
  "language_info": {
   "codemirror_mode": {
    "name": "ipython",
    "version": 3
   },
   "file_extension": ".py",
   "mimetype": "text/x-python",
   "name": "python",
   "nbconvert_exporter": "python",
   "pygments_lexer": "ipython3",
   "version": "3.12.1"
  }
 },
 "nbformat": 4,
 "nbformat_minor": 2
}
