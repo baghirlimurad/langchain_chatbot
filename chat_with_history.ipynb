{
 "cells": [
  {
   "cell_type": "code",
   "execution_count": 1,
   "metadata": {},
   "outputs": [],
   "source": [
    "import os\n",
    "import pprint\n",
    "\n",
    "from dotenv import load_dotenv\n",
    "\n",
    "from langchain.chains import create_history_aware_retriever, create_retrieval_chain\n",
    "from langchain.chains.combine_documents import create_stuff_documents_chain\n",
    "from langchain_community.chat_message_histories import ChatMessageHistory\n",
    "from langchain_community.document_loaders import TextLoader\n",
    "from langchain_community.vectorstores import FAISS\n",
    "from langchain_core.chat_history import BaseChatMessageHistory\n",
    "from langchain_core.prompts import ChatPromptTemplate, MessagesPlaceholder\n",
    "from langchain_core.runnables.history import RunnableWithMessageHistory\n",
    "from langchain_openai import ChatOpenAI, OpenAIEmbeddings\n",
    "from langchain_text_splitters import RecursiveCharacterTextSplitter\n",
    "\n",
    "from langchain.retrievers import ContextualCompressionRetriever\n",
    "from langchain.retrievers.document_compressors import CrossEncoderReranker\n",
    "from langchain_community.cross_encoders import HuggingFaceCrossEncoder"
   ]
  },
  {
   "cell_type": "code",
   "execution_count": 2,
   "metadata": {},
   "outputs": [],
   "source": [
    "load_dotenv()\n",
    "open_api_key = os.getenv(\"OPENAI_API_KEY\")\n",
    "if not open_api_key:\n",
    "    raise ValueError(\"OPENAI_API_KEY is not set\")"
   ]
  },
  {
   "cell_type": "code",
   "execution_count": 3,
   "metadata": {},
   "outputs": [],
   "source": [
    "loader = TextLoader(\"data/data.txt\", encoding=\"utf-8\")\n",
    "docs = loader.load()"
   ]
  },
  {
   "cell_type": "code",
   "execution_count": 4,
   "metadata": {},
   "outputs": [],
   "source": [
    "generative_llm = ChatOpenAI(model=\"gpt-4o\", temperature=0)"
   ]
  },
  {
   "cell_type": "code",
   "execution_count": 5,
   "metadata": {},
   "outputs": [
    {
     "name": "stderr",
     "output_type": "stream",
     "text": [
      "C:\\Users\\Polad\\AppData\\Roaming\\Python\\Python313\\site-packages\\tqdm\\auto.py:21: TqdmWarning: IProgress not found. Please update jupyter and ipywidgets. See https://ipywidgets.readthedocs.io/en/stable/user_install.html\n",
      "  from .autonotebook import tqdm as notebook_tqdm\n"
     ]
    }
   ],
   "source": [
    "text_splitter = RecursiveCharacterTextSplitter(\n",
    "    chunk_size=100, \n",
    "    chunk_overlap=20,\n",
    "    separators=[\"\\n\"]\n",
    ")   \n",
    "\n",
    "splits = text_splitter.split_documents(docs)\n",
    "vectorstore = FAISS.from_documents(\n",
    "    documents=splits, \n",
    "    embedding=OpenAIEmbeddings(model=\"text-embedding-3-large\")\n",
    ")\n",
    "retriever = vectorstore.as_retriever()\n",
    "# retriever=vectorstore.as_retriever(search_type=\"similarity_score_threshold\", search_kwargs={\n",
    "#                               'score_threshold': 0.5})\n",
    "\n",
    "model = HuggingFaceCrossEncoder(model_name=\"cross-encoder/ms-marco-MiniLM-L-2-v2\")\n",
    "compressor = CrossEncoderReranker(model=model, top_n=3)\n",
    "compression_retriever = ContextualCompressionRetriever(\n",
    "    base_compressor=compressor, base_retriever=retriever\n",
    ")"
   ]
  },
  {
   "cell_type": "code",
   "execution_count": 6,
   "metadata": {},
   "outputs": [
    {
     "data": {
      "text/plain": [
       "[Document(metadata={'source': 'data/data.txt'}, page_content='Azerbaijan Artificial Intelligence Lab (AILAB) was established under the Ministry of Digital Development and Transportation to set a roadmap for the development of artificial intelligence in Azerbaijan. Committed to establishing strong AI alliances within the country and the region. '),\n",
       " Document(metadata={'source': 'data/data.txt'}, page_content='\\nSpace exploration has advanced significantly over the years, with missions to the Moon, Mars, and beyond. Technologies like reusable rockets and space telescopes are paving the way for future discoveries, deepening our understanding of the universe.'),\n",
       " Document(metadata={'source': 'data/data.txt'}, page_content='\\nRenewable energy sources, such as solar, wind, and hydroelectric power, are crucial for a sustainable future. By reducing reliance on fossil fuels, renewable energy helps mitigate climate change and provides clean, sustainable power.'),\n",
       " Document(metadata={'source': 'data/data.txt'}, page_content='\\nQuantum computing harnesses the principles of quantum mechanics to solve problems beyond the capabilities of classical computers. It has the potential to revolutionize fields like cryptography, materials science, and artificial intelligence.'),\n",
       " Document(metadata={'source': 'data/data.txt'}, page_content='\\nClimate change refers to long-term shifts in weather patterns and global temperatures. Human activities, particularly the burning of fossil fuels, have contributed to rising temperatures, leading to extreme weather events and environmental degradation.'),\n",
       " Document(metadata={'source': 'data/data.txt'}, page_content='\\nBlockchain technology is a decentralized ledger system that ensures secure, transparent transactions. It is the backbone of cryptocurrencies like Bitcoin and has applications in industries ranging from finance to healthcare.'),\n",
       " Document(metadata={'source': 'data/data.txt'}, page_content='\\nMental health encompasses emotional, psychological, and social well-being. Conditions like depression and anxiety are becoming more recognized, with a growing emphasis on seeking help and prioritizing mental well-being in today’s fast-paced world.'),\n",
       " Document(metadata={'source': 'data/data.txt'}, page_content='\\nCybersecurity involves protecting systems, networks, and data from cyber threats. With the increasing frequency of cyberattacks, businesses and individuals are investing in robust security measures to safeguard sensitive information.'),\n",
       " Document(metadata={'source': 'data/data.txt'}, page_content='\\nEducation is key to personal and societal development. It provides individuals with the knowledge and skills needed to succeed in life. With advancements in technology, online learning has become an accessible and flexible option for many students.'),\n",
       " Document(metadata={'source': 'data/data.txt'}, page_content='\\nHealth and fitness are essential components of a balanced life. Regular exercise, proper nutrition, and adequate sleep contribute to physical well-being, while mental health practices like mindfulness improve emotional resilience.')]"
      ]
     },
     "execution_count": 6,
     "metadata": {},
     "output_type": "execute_result"
    }
   ],
   "source": [
    "splits"
   ]
  },
  {
   "cell_type": "code",
   "execution_count": 7,
   "metadata": {},
   "outputs": [],
   "source": [
    "# Some useful db operations\n",
    "\n",
    "# vectorstore.index.reset()\n",
    "# vectorstore.index.ntotal\n",
    "# vectorstore.index.reconstruct(0)"
   ]
  },
  {
   "cell_type": "code",
   "execution_count": 8,
   "metadata": {},
   "outputs": [
    {
     "data": {
      "text/plain": [
       "ContextualCompressionRetriever(base_compressor=CrossEncoderReranker(model=HuggingFaceCrossEncoder(client=<sentence_transformers.cross_encoder.CrossEncoder.CrossEncoder object at 0x0000025AB03C5010>, model_name='cross-encoder/ms-marco-MiniLM-L-2-v2', model_kwargs={}), top_n=3), base_retriever=VectorStoreRetriever(tags=['FAISS', 'OpenAIEmbeddings'], vectorstore=<langchain_community.vectorstores.faiss.FAISS object at 0x0000025AD4DD5E80>, search_kwargs={}))"
      ]
     },
     "execution_count": 8,
     "metadata": {},
     "output_type": "execute_result"
    }
   ],
   "source": [
    "compression_retriever"
   ]
  },
  {
   "cell_type": "code",
   "execution_count": 9,
   "metadata": {},
   "outputs": [],
   "source": [
    "### Contextualize question ###\n",
    "contextualize_q_system_prompt = \"\"\"Given a chat history and the latest user question \\\n",
    "which might reference context in the chat history, formulate a standalone question \\\n",
    "which can be understood without the chat history. Do NOT answer the question, \\\n",
    "just reformulate it if needed and otherwise return it as is.\"\"\"\n",
    "\n",
    "contextualize_q_prompt = ChatPromptTemplate.from_messages(\n",
    "    [\n",
    "        (\"system\", contextualize_q_system_prompt),\n",
    "        MessagesPlaceholder(\"chat_history\"),\n",
    "        (\"human\", \"{input}\"),\n",
    "    ]\n",
    ")"
   ]
  },
  {
   "cell_type": "code",
   "execution_count": 10,
   "metadata": {},
   "outputs": [],
   "source": [
    "history_aware_retriever = create_history_aware_retriever(\n",
    "    generative_llm, compression_retriever, contextualize_q_prompt\n",
    ")"
   ]
  },
  {
   "cell_type": "code",
   "execution_count": 11,
   "metadata": {},
   "outputs": [],
   "source": [
    "### Answer question ###\n",
    "qa_system_prompt = \"\"\"You are an assistant for question-answering tasks. \\\n",
    "Use ONLY the provided retrieved context to answer the question. \\\n",
    "If the context does not contain relevant information, simply respond with: \\\n",
    "\"I don’t know based on the given information.\" \\\n",
    "\n",
    "Retrieved context: \n",
    "{context}\"\"\"\n",
    "\n",
    "qa_prompt = ChatPromptTemplate.from_messages(\n",
    "    [\n",
    "        (\"system\", qa_system_prompt),\n",
    "        MessagesPlaceholder(\"chat_history\"),\n",
    "        (\"human\", \"{input}\"),\n",
    "    ]\n",
    ")\n",
    "\n",
    "question_answer_chain = create_stuff_documents_chain(generative_llm, qa_prompt)\n",
    "rag_chain = create_retrieval_chain(history_aware_retriever, question_answer_chain)"
   ]
  },
  {
   "cell_type": "code",
   "execution_count": 12,
   "metadata": {},
   "outputs": [],
   "source": [
    "### Statefully manage chat history ###\n",
    "store = {}\n",
    "session_id = \"chatbot_first_session\"\n",
    "\n",
    "def get_session_history(session_id: str) -> BaseChatMessageHistory:\n",
    "    if session_id not in store:\n",
    "        store[session_id] = ChatMessageHistory()\n",
    "    return store[session_id]"
   ]
  },
  {
   "cell_type": "code",
   "execution_count": 13,
   "metadata": {},
   "outputs": [],
   "source": [
    "conversational_rag_chain = RunnableWithMessageHistory(\n",
    "    rag_chain,\n",
    "    get_session_history,\n",
    "    input_messages_key=\"input\",\n",
    "    history_messages_key=\"chat_history\",\n",
    "    output_messages_key=\"answer\",\n",
    ")"
   ]
  },
  {
   "cell_type": "code",
   "execution_count": 14,
   "metadata": {},
   "outputs": [
    {
     "data": {
      "text/plain": [
       "{}"
      ]
     },
     "execution_count": 14,
     "metadata": {},
     "output_type": "execute_result"
    }
   ],
   "source": [
    "store"
   ]
  },
  {
   "cell_type": "code",
   "execution_count": 15,
   "metadata": {},
   "outputs": [
    {
     "data": {
      "text/plain": [
       "'Climate change is caused by long-term shifts in weather patterns and global temperatures. Human activities, particularly the burning of fossil fuels, have contributed to rising temperatures, leading to extreme weather events and environmental degradation.'"
      ]
     },
     "execution_count": 15,
     "metadata": {},
     "output_type": "execute_result"
    }
   ],
   "source": [
    "conversational_rag_chain.invoke(\n",
    "    {\"input\": \"What causes climate change?\"},\n",
    "    config={\n",
    "        \"configurable\": {\"session_id\": session_id}\n",
    "    }, \n",
    ")[\"answer\"]"
   ]
  },
  {
   "cell_type": "code",
   "execution_count": 19,
   "metadata": {},
   "outputs": [
    {
     "data": {
      "text/plain": [
       "'Your last question was: \"what are renewable energy sources?\"'"
      ]
     },
     "execution_count": 19,
     "metadata": {},
     "output_type": "execute_result"
    }
   ],
   "source": [
    "conversational_rag_chain.invoke(\n",
    "    {\"input\": \"What was my last question?\"},\n",
    "    config={\n",
    "        \"configurable\": {\"session_id\": session_id}\n",
    "        },\n",
    "        \n",
    ")[\"answer\"] "
   ]
  },
  {
   "cell_type": "code",
   "execution_count": 138,
   "metadata": {},
   "outputs": [
    {
     "name": "stdout",
     "output_type": "stream",
     "text": [
      "{'chatbot_first_session': InMemoryChatMessageHistory(messages=[HumanMessage(content='Under what ministry was AILAB established', additional_kwargs={}, response_metadata={}), AIMessage(content='AILAB was established under the Ministry of Digital Development and Transportation.', additional_kwargs={}, response_metadata={}), HumanMessage(content='What was my last question?', additional_kwargs={}, response_metadata={}), AIMessage(content='Your last question was: \"Under what ministry was AILAB established?\"', additional_kwargs={}, response_metadata={})])}\n"
     ]
    }
   ],
   "source": [
    "pprint.pprint(store)"
   ]
  },
  {
   "cell_type": "code",
   "execution_count": 139,
   "metadata": {},
   "outputs": [
    {
     "name": "stdout",
     "output_type": "stream",
     "text": [
      "HUMAN: Under what ministry was AILAB established\n",
      "AI: AILAB was established under the Ministry of Digital Development and Transportation.\n",
      "HUMAN: What was my last question?\n",
      "AI: Your last question was: \"Under what ministry was AILAB established?\"\n"
     ]
    }
   ],
   "source": [
    "for msg in store[session_id].messages:\n",
    "    print(f\"{msg.type.upper()}: {msg.content}\")\n",
    "\n",
    "response = conversational_rag_chain.invoke(\n",
    "    {\"input\": \"Can you list all questions that I've addressed to you so far?\"},\n",
    "    config={\"configurable\": {\"session_id\": session_id}},\n",
    ")[\"answer\"]\n"
   ]
  },
  {
   "cell_type": "code",
   "execution_count": null,
   "metadata": {},
   "outputs": [
    {
     "data": {
      "text/plain": [
       "[Document(id='d533ffb0-1edb-475a-af60-68e9265e4a7b', metadata={'source': 'data/data.txt'}, page_content='Azerbaijan Artificial Intelligence Lab (AILAB) was established under the Ministry of Digital Development and Transportation to set a roadmap for the development of artificial intelligence in Azerbaijan. Committed to establishing strong AI alliances within the country and the region. '),\n",
       " Document(id='aca09dbf-584c-4309-9131-f23cab36dbc5', metadata={'source': 'data/data.txt'}, page_content='\\nBlockchain technology is a decentralized ledger system that ensures secure, transparent transactions. It is the backbone of cryptocurrencies like Bitcoin and has applications in industries ranging from finance to healthcare.'),\n",
       " Document(id='7690c3b7-76b5-4acf-9e68-b315a730d221', metadata={'source': 'data/data.txt'}, page_content='\\nQuantum computing harnesses the principles of quantum mechanics to solve problems beyond the capabilities of classical computers. It has the potential to revolutionize fields like cryptography, materials science, and artificial intelligence.'),\n",
       " Document(id='8205fbbc-8bfa-48f4-9288-443d1d82044e', metadata={'source': 'data/data.txt'}, page_content='\\nSpace exploration has advanced significantly over the years, with missions to the Moon, Mars, and beyond. Technologies like reusable rockets and space telescopes are paving the way for future discoveries, deepening our understanding of the universe.')]"
      ]
     },
     "execution_count": 50,
     "metadata": {},
     "output_type": "execute_result"
    }
   ],
   "source": [
    "retriever.invoke(\n",
    "    input=\"Do you know anything about AILAB\", \n",
    "    config={}\n",
    ")"
   ]
  },
  {
   "cell_type": "code",
   "execution_count": 24,
   "metadata": {},
   "outputs": [
    {
     "name": "stdout",
     "output_type": "stream",
     "text": [
      "----\n",
      "Document:\n",
      " Azerbaijan Artificial Intelligence Lab (AILAB) was established under the Ministry of Digital Development and Transportation to set a roadmap for the development of artificial intelligence in Azerbaijan. Committed to establishing strong AI alliances within the country and the region. \n",
      "Metadata: {'source': 'data/data.txt'}\n",
      "Score: 0.88919747\n",
      "----\n",
      "Document:\n",
      " \n",
      "Blockchain technology is a decentralized ledger system that ensures secure, transparent transactions. It is the backbone of cryptocurrencies like Bitcoin and has applications in industries ranging from finance to healthcare.\n",
      "Metadata: {'source': 'data/data.txt'}\n",
      "Score: 1.7115123\n",
      "----\n",
      "Document:\n",
      " \n",
      "Quantum computing harnesses the principles of quantum mechanics to solve problems beyond the capabilities of classical computers. It has the potential to revolutionize fields like cryptography, materials science, and artificial intelligence.\n",
      "Metadata: {'source': 'data/data.txt'}\n",
      "Score: 1.7125733\n",
      "----\n",
      "Document:\n",
      " \n",
      "Space exploration has advanced significantly over the years, with missions to the Moon, Mars, and beyond. Technologies like reusable rockets and space telescopes are paving the way for future discoveries, deepening our understanding of the universe.\n",
      "Metadata: {'source': 'data/data.txt'}\n",
      "Score: 1.7228951\n"
     ]
    }
   ],
   "source": [
    "query = \"Do you know anything about AILAB\"\n",
    "docs_and_scores = vectorstore.similarity_search_with_score(query, k=4)\n",
    "\n",
    "for doc, score in docs_and_scores:\n",
    "    print(\"----\")\n",
    "    print(\"Document:\\n\", doc.page_content)\n",
    "    print(\"Metadata:\", doc.metadata)\n",
    "    print(\"Score:\", score)"
   ]
  },
  {
   "cell_type": "code",
   "execution_count": null,
   "metadata": {},
   "outputs": [],
   "source": []
  },
  {
   "cell_type": "code",
   "execution_count": null,
   "metadata": {},
   "outputs": [],
   "source": []
  }
 ],
 "metadata": {
  "kernelspec": {
   "display_name": "Python 3",
   "language": "python",
   "name": "python3"
  },
  "language_info": {
   "codemirror_mode": {
    "name": "ipython",
    "version": 3
   },
   "file_extension": ".py",
   "mimetype": "text/x-python",
   "name": "python",
   "nbconvert_exporter": "python",
   "pygments_lexer": "ipython3",
   "version": "3.12.1"
  }
 },
 "nbformat": 4,
 "nbformat_minor": 2
}
