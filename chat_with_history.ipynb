{
 "cells": [
  {
   "cell_type": "code",
   "execution_count": 1,
   "metadata": {},
   "outputs": [],
   "source": [
    "import os\n",
    "import json\n",
    "import pprint\n",
    "import docx\n",
    "\n",
    "from dotenv import load_dotenv\n",
    "\n",
    "from langchain.chains import create_history_aware_retriever, create_retrieval_chain\n",
    "from langchain.chains.combine_documents import create_stuff_documents_chain\n",
    "from langchain_community.chat_message_histories import ChatMessageHistory\n",
    "from langchain_community.document_loaders import TextLoader\n",
    "from langchain_community.document_loaders import Docx2txtLoader\n",
    "from langchain_community.vectorstores import FAISS\n",
    "from langchain_core.chat_history import BaseChatMessageHistory\n",
    "from langchain_core.prompts import ChatPromptTemplate, MessagesPlaceholder\n",
    "from langchain_core.runnables.history import RunnableWithMessageHistory\n",
    "from langchain_openai import ChatOpenAI, OpenAIEmbeddings\n",
    "from langchain_text_splitters import RecursiveCharacterTextSplitter\n",
    "\n",
    "from langchain.retrievers import ContextualCompressionRetriever\n",
    "from langchain.retrievers.document_compressors import CrossEncoderReranker\n",
    "from langchain_community.cross_encoders import HuggingFaceCrossEncoder"
   ]
  },
  {
   "cell_type": "code",
   "execution_count": 2,
   "metadata": {},
   "outputs": [],
   "source": [
    "load_dotenv()\n",
    "open_api_key = os.getenv(\"OPENAI_API_KEY\")\n",
    "if not open_api_key:\n",
    "    raise ValueError(\"OPENAI_API_KEY is not set\")"
   ]
  },
  {
   "cell_type": "code",
   "execution_count": 3,
   "metadata": {},
   "outputs": [],
   "source": [
    "loader = TextLoader(\"data/data_arshin_mal_alan.txt\", encoding=\"utf-8\")\n",
    "docs = loader.load()"
   ]
  },
  {
   "cell_type": "code",
   "execution_count": 5,
   "metadata": {},
   "outputs": [],
   "source": [
    "generative_llm = ChatOpenAI(model=\"gpt-4o\", temperature=0)"
   ]
  },
  {
   "cell_type": "code",
   "execution_count": 10,
   "metadata": {},
   "outputs": [
    {
     "data": {
      "text/plain": [
       "[Document(metadata={'source': 'data/data_arshin_mal_alan.txt'}, page_content='Arşın Mal Alan - \"Arşın Mal Alan\" filmi Üzeyir Hacıbəyovun eyniadlı musiqili komediyasına əsaslanır.'),\n",
       " Document(metadata={'source': 'data/data_arshin_mal_alan.txt'}, page_content='əsaslanır. Bu əsər Azərbaycan kinosunda bir neçə dəfə ekranlaşdırılmışdır. Ən məşhur versiyalardan'),\n",
       " Document(metadata={'source': 'data/data_arshin_mal_alan.txt'}, page_content='versiyalardan ikisi 1945-ci ildə Rza Təhmasib və Nikolay Leşşenko, digəri isə 1965-ci ildə Tofiq'),\n",
       " Document(metadata={'source': 'data/data_arshin_mal_alan.txt'}, page_content='1965-ci ildə Tofiq Tağızadə tərəfindən çəkilmişdir.'),\n",
       " Document(metadata={'source': 'data/data_arshin_mal_alan.txt'}, page_content='Filmin Tarixi və Versiyaları -\"Arşın Mal Alan\" operettası ilk dəfə 1913-cü ildə səhnəyə'),\n",
       " Document(metadata={'source': 'data/data_arshin_mal_alan.txt'}, page_content='ildə səhnəyə qoyulmuşdur. Bu əsər Azərbaycan teatrının klassik nümunələrindən hesab olunur. Filmin'),\n",
       " Document(metadata={'source': 'data/data_arshin_mal_alan.txt'}, page_content='olunur. Filmin əsas mövzusu XX əsrin əvvəlində Bakıda cərəyan edir. Gənc tacir Əsgər evlənmək'),\n",
       " Document(metadata={'source': 'data/data_arshin_mal_alan.txt'}, page_content='Əsgər evlənmək fikrinə düşür, lakin dövrün qaydalarından fərqli olaraq, o, qızı toydan öncə görmək'),\n",
       " Document(metadata={'source': 'data/data_arshin_mal_alan.txt'}, page_content='toydan öncə görmək istəyir. Bu məsələni həll etməkdə dostu Süleyman ona kömək edir.'),\n",
       " Document(metadata={'source': 'data/data_arshin_mal_alan.txt'}, page_content='1945-ci İldə Çəkilmiş Film Rejissorlar: Rza Təhmasib və Nikolay Leşşenko Əsərin Müəllifi: Üzeyir'),\n",
       " Document(metadata={'source': 'data/data_arshin_mal_alan.txt'}, page_content='Müəllifi: Üzeyir Hacıbəyov Ssenari Müəllifi: Sabit Rəhman Baş Rollarda: Rəşid Behbudov, Leyla'),\n",
       " Document(metadata={'source': 'data/data_arshin_mal_alan.txt'}, page_content='Behbudov, Leyla Bədirbəyli, Ələkbər Hüseynzadə, İsmayıl Əfəndiyev, Münəvvər Kələntərli, Lütfəli'),\n",
       " Document(metadata={'source': 'data/data_arshin_mal_alan.txt'}, page_content='Kələntərli, Lütfəli Abdullayev, Fatma Mehrəliyeva, Rəhilə Mustafayeva Operatorlar: Əlisəttar'),\n",
       " Document(metadata={'source': 'data/data_arshin_mal_alan.txt'}, page_content='Əlisəttar Atakişiyev, Muxtar Dadaşov Bəstəkar: Üzeyir Hacıbəyov Rəssam: Yuri Şvets İstehsalçı: Bakı'),\n",
       " Document(metadata={'source': 'data/data_arshin_mal_alan.txt'}, page_content='İstehsalçı: Bakı Kinostudiyasıİlk Baxış Tarixi: 1 oktyabr 1945 Filmin Növü: Tammetrajlı bədii film'),\n",
       " Document(metadata={'source': 'data/data_arshin_mal_alan.txt'}, page_content='bədii film Müddət: 89 dəq. Büdcə: 5.807.000 rubl Ölkə: Azərbaycan SSR Dillər: Rusca (1945),'),\n",
       " Document(metadata={'source': 'data/data_arshin_mal_alan.txt'}, page_content='Rusca (1945), Azərbaycanca (2006) Texniki Məlumatlar: 10 hissə, 2715 metr, ağ-qara IMDb: ID0037520'),\n",
       " Document(metadata={'source': 'data/data_arshin_mal_alan.txt'}, page_content='IMDb: ID0037520 Bu film Azərbaycan Respublikası Nazirlər Kabinetinin 7 may 2019-cu il tarixli, 211'),\n",
       " Document(metadata={'source': 'data/data_arshin_mal_alan.txt'}, page_content='il tarixli, 211 nömrəli Qərarı ilə dövlət varidatı elan edilmişdir. Film Sovet dövründə 136 ölkədə'),\n",
       " Document(metadata={'source': 'data/data_arshin_mal_alan.txt'}, page_content='dövründə 136 ölkədə nümayiş etdirilmiş və 86 dilə tərcümə olunmuşdur.'),\n",
       " Document(metadata={'source': 'data/data_arshin_mal_alan.txt'}, page_content='1965-ci İldə Çəkilmiş Film Rejissor: Tofiq Tağızadə Əsərin Müəllifi: Üzeyir Hacıbəyov Ssenari'),\n",
       " Document(metadata={'source': 'data/data_arshin_mal_alan.txt'}, page_content='Hacıbəyov Ssenari Müəllifləri: Tofiq Tağızadə, Muxtar Dadaşov Baş Rollarda: Həsən Məmmədov, Leyla'),\n",
       " Document(metadata={'source': 'data/data_arshin_mal_alan.txt'}, page_content='Məmmədov, Leyla Şıxlinskaya, Ağadadaş Qurbanov, Nəcibə Məlikova, Hacımurad Yegizarov, Xuraman'),\n",
       " Document(metadata={'source': 'data/data_arshin_mal_alan.txt'}, page_content='Yegizarov, Xuraman Hacıyeva, Tələt Rəhmanov, Səfurə İbrahimova Operator: İlya Minkovetski Bəstəkar:'),\n",
       " Document(metadata={'source': 'data/data_arshin_mal_alan.txt'}, page_content='Bəstəkar: Üzeyir Hacıbəyov Rəssam: Elbəy Rzaquliyev İstehsalçı: \"Azərbaycanfilm\" Kinostudiyası İlk'),\n",
       " Document(metadata={'source': 'data/data_arshin_mal_alan.txt'}, page_content='Kinostudiyası İlk Baxış Tarixi: 1 fevral 1966 Filmin Növü: Tammetrajlı bədii film Müddət: 85 dəq.'),\n",
       " Document(metadata={'source': 'data/data_arshin_mal_alan.txt'}, page_content='Müddət: 85 dəq. Ölkə: Azərbaycan SSR Dil: Azərbaycanca Texniki Məlumatlar: 9 hissə, 2532 metr,'),\n",
       " Document(metadata={'source': 'data/data_arshin_mal_alan.txt'}, page_content='9 hissə, 2532 metr, genişformatlı, rəngli IMDb: ID1573789 Bu film 1967-ci ildə Tbilisidə I'),\n",
       " Document(metadata={'source': 'data/data_arshin_mal_alan.txt'}, page_content='ildə Tbilisidə I Zaqafqaziya və Ukrayna respublikaları filmlərinin \"Prometey-67\" zona'),\n",
       " Document(metadata={'source': 'data/data_arshin_mal_alan.txt'}, page_content='\"Prometey-67\" zona kinofestivalında Ən yaxşı musiqili filmə görə Gürcüstan SSR Bəstəkarlar'),\n",
       " Document(metadata={'source': 'data/data_arshin_mal_alan.txt'}, page_content='SSR Bəstəkarlar İttifaqının prizinə layiq görülmüşdür.'),\n",
       " Document(metadata={'source': 'data/data_arshin_mal_alan.txt'}, page_content='Məzmun Hər iki film XX əsrin əvvəlində Bakıda baş verir. Gənc tacir Əsgər evlənmək fikrinə düşür,'),\n",
       " Document(metadata={'source': 'data/data_arshin_mal_alan.txt'}, page_content='fikrinə düşür, lakin dövrün qaydalarından fərqli olaraq, o, qızı toydan öncə görmək istəyir. Bu'),\n",
       " Document(metadata={'source': 'data/data_arshin_mal_alan.txt'}, page_content='görmək istəyir. Bu məsələni həll etməkdə dostu Süleyman ona kömək edir. Filmlər məhəbbət, komediya'),\n",
       " Document(metadata={'source': 'data/data_arshin_mal_alan.txt'}, page_content='məhəbbət, komediya və musiqi elementlərini birləşdirir.'),\n",
       " Document(metadata={'source': 'data/data_arshin_mal_alan.txt'}, page_content='Dialoqlar və Əsas Sözlər 1945-ci İldə Çəkilmiş Film Əsgər (Rəşid Behbudov): \"Mən qızla tanış ola'),\n",
       " Document(metadata={'source': 'data/data_arshin_mal_alan.txt'}, page_content='qızla tanış ola bilməyəcəyəmmi? Qızın üzünü görməyəcəyəmmi?\" Süleyman (Ələkbər Hüseynzadə): \"Sənə'),\n",
       " Document(metadata={'source': 'data/data_arshin_mal_alan.txt'}, page_content='Hüseynzadə): \"Sənə qızın üzünü göstərəcəyəm. Amma sənə demək lazımdır ki, bu iş çox təhlükəlidir.\"'),\n",
       " Document(metadata={'source': 'data/data_arshin_mal_alan.txt'}, page_content='çox təhlükəlidir.\" Əsgər: \"Mən qızla danışacam, qızın səsini eşidəcəyəm. Qızın səsini eşidəndən'),\n",
       " Document(metadata={'source': 'data/data_arshin_mal_alan.txt'}, page_content='səsini eşidəndən sonra mənə qızın necə olduğunu deyəcəyəm.\" Süleyman: \"Yaxşı, gedək. Amma sənə'),\n",
       " Document(metadata={'source': 'data/data_arshin_mal_alan.txt'}, page_content='gedək. Amma sənə xəbərdarlıq edirəm, bu iş çox təhlükəlidir.\"'),\n",
       " Document(metadata={'source': 'data/data_arshin_mal_alan.txt'}, page_content='1965-ci İldə Çəkilmiş Film Əsgər (Həsən Məmmədov): \"Süleyman, mən qızla tanış ola bilməyəcəyəmmi?'),\n",
       " Document(metadata={'source': 'data/data_arshin_mal_alan.txt'}, page_content='ola bilməyəcəyəmmi? Qızın üzünü görməyəcəyəmmi?\" Süleyman (Ağadadaş Qurbanov): \"Sənə qızın üzünü'),\n",
       " Document(metadata={'source': 'data/data_arshin_mal_alan.txt'}, page_content='\"Sənə qızın üzünü göstərəcəyəm. Amma sənə demək lazımdır ki, bu iş çox təhlükəlidir. Əgər sənə'),\n",
       " Document(metadata={'source': 'data/data_arshin_mal_alan.txt'}, page_content='Əgər sənə qızın üzünü göstərsəm, sənə qızın atası tərəfindən cəza verilə bilər.\" Əsgər: \"Mən qızla'),\n",
       " Document(metadata={'source': 'data/data_arshin_mal_alan.txt'}, page_content='Əsgər: \"Mən qızla danışacam, qızın səsini eşidəcəyəm. Qızın səsini eşidəndən sonra mənə qızın necə'),\n",
       " Document(metadata={'source': 'data/data_arshin_mal_alan.txt'}, page_content='mənə qızın necə olduğunu deyəcəyəm.\" Süleyman: \"Yaxşı, gedək. Amma sənə xəbərdarlıq edirəm, bu iş'),\n",
       " Document(metadata={'source': 'data/data_arshin_mal_alan.txt'}, page_content='edirəm, bu iş çox təhlükəlidir.\"'),\n",
       " Document(metadata={'source': 'data/data_arshin_mal_alan.txt'}, page_content='Filmin Mədəni Əhəmiyyəti \"Arşın Mal Alan\" filmi Azərbaycan mədəniyyətinə və kinematoqrafiyasına'),\n",
       " Document(metadata={'source': 'data/data_arshin_mal_alan.txt'}, page_content='kinematoqrafiyasına əhəmiyyətli töhfə vermişdir. 1945-ci il versiyası Sovet dövründə çox məşhur idi'),\n",
       " Document(metadata={'source': 'data/data_arshin_mal_alan.txt'}, page_content='çox məşhur idi və 136 ölkədə nümayiş etdirilmişdir. 1965-ci il versiyası isə milli kino tarixində'),\n",
       " Document(metadata={'source': 'data/data_arshin_mal_alan.txt'}, page_content='kino tarixində əhəmiyyətli yer tutur.'),\n",
       " Document(metadata={'source': 'data/data_arshin_mal_alan.txt'}, page_content='Musiqi Filmdəki musiqi Üzeyir Hacıbəyovun əsərlərindən ibarətdir. \"Arşın Mal Alan\" operettası'),\n",
       " Document(metadata={'source': 'data/data_arshin_mal_alan.txt'}, page_content='Alan\" operettası Azərbaycan musiqi teatrının klassik nümunələrindən hesab olunur. Filmdəki'),\n",
       " Document(metadata={'source': 'data/data_arshin_mal_alan.txt'}, page_content='olunur. Filmdəki mahnılar, xüsusilə \"Qız qalası\" və \"Süleyman\" mahnıları, izləyicilər arasında çox'),\n",
       " Document(metadata={'source': 'data/data_arshin_mal_alan.txt'}, page_content='arasında çox məşhurdur.'),\n",
       " Document(metadata={'source': 'data/data_arshin_mal_alan.txt'}, page_content='Aktyorlar Rəşid Behbudov (1945): Əsgər rolunu ifa edən Rəşid Behbudov Azərbaycanın məşhur müğənnisi'),\n",
       " Document(metadata={'source': 'data/data_arshin_mal_alan.txt'}, page_content='məşhur müğənnisi və aktyorudur. Leyla Bədirbəyli (1945): Qız rolunu ifa edən Leyla Bədirbəyli'),\n",
       " Document(metadata={'source': 'data/data_arshin_mal_alan.txt'}, page_content='Leyla Bədirbəyli Azərbaycanın məşhur aktrisalarından biridir. Həsən Məmmədov (1965): Əsgər rolunu'),\n",
       " Document(metadata={'source': 'data/data_arshin_mal_alan.txt'}, page_content='Əsgər rolunu ifa edən Həsən Məmmədov Azərbaycanın məşhur aktyorlarından biridir. Leyla Şıxlinskaya'),\n",
       " Document(metadata={'source': 'data/data_arshin_mal_alan.txt'}, page_content='Leyla Şıxlinskaya (1965): Qız rolunu ifa edən Leyla Şıxlinskaya Azərbaycanın məşhur aktrisalarından'),\n",
       " Document(metadata={'source': 'data/data_arshin_mal_alan.txt'}, page_content='aktrisalarından biridir.'),\n",
       " Document(metadata={'source': 'data/data_arshin_mal_alan.txt'}, page_content='Filmin Qəbulu \"Arşın Mal Alan\" filmi hər iki versiyada izləyicilər tərəfindən yaxşı qarşılanmışdır.'),\n",
       " Document(metadata={'source': 'data/data_arshin_mal_alan.txt'}, page_content='qarşılanmışdır. Filmin musiqili komediya janrı, yumorlu dialoqları və məhəbbət mövzusu izləyiciləri'),\n",
       " Document(metadata={'source': 'data/data_arshin_mal_alan.txt'}, page_content='izləyiciləri cəlb edir.'),\n",
       " Document(metadata={'source': 'data/data_arshin_mal_alan.txt'}, page_content='Nəticə \"Arşın Mal Alan\" filmi Azərbaycan kinematoqrafiyasının klassik nümunələrindən hesab olunur.'),\n",
       " Document(metadata={'source': 'data/data_arshin_mal_alan.txt'}, page_content='hesab olunur. Filmin məzmunu, musiqisi və aktyorların ifası izləyiciləri həmişə cəlb edir. Filmin'),\n",
       " Document(metadata={'source': 'data/data_arshin_mal_alan.txt'}, page_content='cəlb edir. Filmin hər iki versiyası milli kino tarixində əhəmiyyətli yer tutur.'),\n",
       " Document(metadata={'source': 'data/data_arshin_mal_alan.txt'}, page_content='Filmin Təsiri \"Arşın Mal Alan\" filmi Azərbaycan mədəniyyətinə və kinematoqrafiyasına əhəmiyyətli'),\n",
       " Document(metadata={'source': 'data/data_arshin_mal_alan.txt'}, page_content='əhəmiyyətli töhfə vermişdir. Bu film Azərbaycanın milli kimliyini və mədəni irsini dünya miqyasında'),\n",
       " Document(metadata={'source': 'data/data_arshin_mal_alan.txt'}, page_content='dünya miqyasında tanıtmışdır. Filmin musiqisi və məzmunu izləyicilərə Azərbaycanın zəngin mədəni'),\n",
       " Document(metadata={'source': 'data/data_arshin_mal_alan.txt'}, page_content='zəngin mədəni irsini göstərir.'),\n",
       " Document(metadata={'source': 'data/data_arshin_mal_alan.txt'}, page_content='Beynəlxalq Nümayişlər 1945-ci il versiyası Sovet dövründə çox məşhur idi və 136 ölkədə nümayiş'),\n",
       " Document(metadata={'source': 'data/data_arshin_mal_alan.txt'}, page_content='136 ölkədə nümayiş etdirilmişdir. Bu, Azərbaycan kinematoqrafiyasının beynəlxalq səviyyədə'),\n",
       " Document(metadata={'source': 'data/data_arshin_mal_alan.txt'}, page_content='səviyyədə tanınmasına kömək etmişdir.'),\n",
       " Document(metadata={'source': 'data/data_arshin_mal_alan.txt'}, page_content='Milli Kinematoqrafiya \"Arşın Mal Alan\" filmi milli kinematoqrafiyanın inkişafında mühüm rol'),\n",
       " Document(metadata={'source': 'data/data_arshin_mal_alan.txt'}, page_content='mühüm rol oynamışdır. Filmin müvəffəqiyyəti Azərbaycan kinematoqrafiyasının inkişafına təkan'),\n",
       " Document(metadata={'source': 'data/data_arshin_mal_alan.txt'}, page_content='inkişafına təkan vermişdir.'),\n",
       " Document(metadata={'source': 'data/data_arshin_mal_alan.txt'}, page_content='Mədəni İrs Filmin məzmunu və musiqisi Azərbaycanın mədəni irsinə aid edilir. \"Arşın Mal Alan\"'),\n",
       " Document(metadata={'source': 'data/data_arshin_mal_alan.txt'}, page_content='\"Arşın Mal Alan\" operettası Azərbaycan musiqi teatrının klassik nümunələrindən hesab olunur.'),\n",
       " Document(metadata={'source': 'data/data_arshin_mal_alan.txt'}, page_content='Növbəti Nəsillərə Təsiri \"Arşın Mal Alan\" filmi növbəti nəsillərə də təsirini davam etdirir. Filmin'),\n",
       " Document(metadata={'source': 'data/data_arshin_mal_alan.txt'}, page_content='etdirir. Filmin məzmunu və musiqisi gənclər arasında çox məşhurdur.'),\n",
       " Document(metadata={'source': 'data/data_arshin_mal_alan.txt'}, page_content='Filmin Yenidən Bərpası Son illərdə \"Arşın Mal Alan\" filminin yenidən bərpası məsələsi aktualdır.'),\n",
       " Document(metadata={'source': 'data/data_arshin_mal_alan.txt'}, page_content='məsələsi aktualdır. Filmin rəngləndirilməsi və yeni formatda nümayişi planlaşdırılır. Bu, filmin'),\n",
       " Document(metadata={'source': 'data/data_arshin_mal_alan.txt'}, page_content='Bu, filmin daha geniş auditoriya tərəfindən qəbuluna kömək edəcəkdir.'),\n",
       " Document(metadata={'source': 'data/data_arshin_mal_alan.txt'}, page_content='Texniki Yeniləmə Filmin texniki yeniləməsi, o cümlədən rəngləndirilməsi və yeni formatda nümayişi,'),\n",
       " Document(metadata={'source': 'data/data_arshin_mal_alan.txt'}, page_content='formatda nümayişi, filmin keyfiyyətini yaxşılaşdıracaq və daha gənc izləyicilərə çatdırılmasına'),\n",
       " Document(metadata={'source': 'data/data_arshin_mal_alan.txt'}, page_content='çatdırılmasına kömək edəcəkdir'),\n",
       " Document(metadata={'source': 'data/data_arshin_mal_alan.txt'}, page_content='Mədəni Tədbirlər \"Arşın Mal Alan\" filminə həsr olunmuş mədəni tədbirlər keçirilir. Bu tədbirlər'),\n",
       " Document(metadata={'source': 'data/data_arshin_mal_alan.txt'}, page_content='Bu tədbirlər filmin mədəni əhəmiyyətini daha da artırır.'),\n",
       " Document(metadata={'source': 'data/data_arshin_mal_alan.txt'}, page_content='Təhsil Prosesində İstifadə Filmin mövzusu və məzmunu təhsil prosesində istifadə olunur. Bu,'),\n",
       " Document(metadata={'source': 'data/data_arshin_mal_alan.txt'}, page_content='olunur. Bu, gənclərə Azərbaycan mədəniyyəti və tarixi haqqında daha çox məlumat verməyə kömək edir.'),\n",
       " Document(metadata={'source': 'data/data_arshin_mal_alan.txt'}, page_content='Nəticə \"Arşın Mal Alan\" filmi Azərbaycan kinematoqrafiyasının klassik nümunələrindən hesab olunur.'),\n",
       " Document(metadata={'source': 'data/data_arshin_mal_alan.txt'}, page_content='hesab olunur. Filmin məzmunu, musiqisi və aktyorların ifası izləyiciləri həmişə cəlb edir. Filmin'),\n",
       " Document(metadata={'source': 'data/data_arshin_mal_alan.txt'}, page_content='cəlb edir. Filmin hər iki versiyası milli kino tarixində əhəmiyyətli yer tutur. Filmin yenidən'),\n",
       " Document(metadata={'source': 'data/data_arshin_mal_alan.txt'}, page_content='Filmin yenidən bərpası və texniki yeniləməsi, filmin daha geniş auditoriya tərəfindən qəbuluna'),\n",
       " Document(metadata={'source': 'data/data_arshin_mal_alan.txt'}, page_content='tərəfindən qəbuluna kömək edəcəkdir.')]"
      ]
     },
     "execution_count": 10,
     "metadata": {},
     "output_type": "execute_result"
    }
   ],
   "source": [
    "text_splitter = RecursiveCharacterTextSplitter(\n",
    "    chunk_size=100, \n",
    "    chunk_overlap=20,\n",
    "    # separators=[\"\\n\"]\n",
    ")   \n",
    "\n",
    "splits = text_splitter.split_documents(docs)\n",
    "splits"
   ]
  },
  {
   "cell_type": "code",
   "execution_count": 11,
   "metadata": {},
   "outputs": [
    {
     "data": {
      "text/plain": [
       "97"
      ]
     },
     "execution_count": 11,
     "metadata": {},
     "output_type": "execute_result"
    }
   ],
   "source": [
    "len(splits)"
   ]
  },
  {
   "cell_type": "code",
   "execution_count": 12,
   "metadata": {},
   "outputs": [
    {
     "ename": "AuthenticationError",
     "evalue": "Error code: 401 - {'error': {'message': 'Incorrect API key provided: sk-proj-********************************************************************************************************************************************************4XIA. You can find your API key at https://platform.openai.com/account/api-keys.', 'type': 'invalid_request_error', 'param': None, 'code': 'invalid_api_key'}}",
     "output_type": "error",
     "traceback": [
      "\u001b[1;31m---------------------------------------------------------------------------\u001b[0m",
      "\u001b[1;31mAuthenticationError\u001b[0m                       Traceback (most recent call last)",
      "Cell \u001b[1;32mIn[12], line 1\u001b[0m\n\u001b[1;32m----> 1\u001b[0m vectorstore \u001b[38;5;241m=\u001b[39m \u001b[43mFAISS\u001b[49m\u001b[38;5;241;43m.\u001b[39;49m\u001b[43mfrom_documents\u001b[49m\u001b[43m(\u001b[49m\n\u001b[0;32m      2\u001b[0m \u001b[43m    \u001b[49m\u001b[43mdocuments\u001b[49m\u001b[38;5;241;43m=\u001b[39;49m\u001b[43msplits\u001b[49m\u001b[43m,\u001b[49m\u001b[43m \u001b[49m\n\u001b[0;32m      3\u001b[0m \u001b[43m    \u001b[49m\u001b[43membedding\u001b[49m\u001b[38;5;241;43m=\u001b[39;49m\u001b[43mOpenAIEmbeddings\u001b[49m\u001b[43m(\u001b[49m\u001b[43mmodel\u001b[49m\u001b[38;5;241;43m=\u001b[39;49m\u001b[38;5;124;43m\"\u001b[39;49m\u001b[38;5;124;43mtext-embedding-3-large\u001b[39;49m\u001b[38;5;124;43m\"\u001b[39;49m\u001b[43m)\u001b[49m\n\u001b[0;32m      4\u001b[0m \u001b[43m)\u001b[49m\n\u001b[0;32m      5\u001b[0m retriever \u001b[38;5;241m=\u001b[39m vectorstore\u001b[38;5;241m.\u001b[39mas_retriever()\n\u001b[0;32m      6\u001b[0m \u001b[38;5;66;03m# retriever=vectorstore.as_retriever(search_type=\"similarity_score_threshold\", search_kwargs={\u001b[39;00m\n\u001b[0;32m      7\u001b[0m \u001b[38;5;66;03m#                               'score_threshold': 0.5})\u001b[39;00m\n",
      "File \u001b[1;32mc:\\Users\\msi thin\\AppData\\Local\\Programs\\Python\\Python311\\Lib\\site-packages\\langchain_core\\vectorstores\\base.py:835\u001b[0m, in \u001b[0;36mVectorStore.from_documents\u001b[1;34m(cls, documents, embedding, **kwargs)\u001b[0m\n\u001b[0;32m    833\u001b[0m texts \u001b[38;5;241m=\u001b[39m [d\u001b[38;5;241m.\u001b[39mpage_content \u001b[38;5;28;01mfor\u001b[39;00m d \u001b[38;5;129;01min\u001b[39;00m documents]\n\u001b[0;32m    834\u001b[0m metadatas \u001b[38;5;241m=\u001b[39m [d\u001b[38;5;241m.\u001b[39mmetadata \u001b[38;5;28;01mfor\u001b[39;00m d \u001b[38;5;129;01min\u001b[39;00m documents]\n\u001b[1;32m--> 835\u001b[0m \u001b[38;5;28;01mreturn\u001b[39;00m \u001b[38;5;28;43mcls\u001b[39;49m\u001b[38;5;241;43m.\u001b[39;49m\u001b[43mfrom_texts\u001b[49m\u001b[43m(\u001b[49m\u001b[43mtexts\u001b[49m\u001b[43m,\u001b[49m\u001b[43m \u001b[49m\u001b[43membedding\u001b[49m\u001b[43m,\u001b[49m\u001b[43m \u001b[49m\u001b[43mmetadatas\u001b[49m\u001b[38;5;241;43m=\u001b[39;49m\u001b[43mmetadatas\u001b[49m\u001b[43m,\u001b[49m\u001b[43m \u001b[49m\u001b[38;5;241;43m*\u001b[39;49m\u001b[38;5;241;43m*\u001b[39;49m\u001b[43mkwargs\u001b[49m\u001b[43m)\u001b[49m\n",
      "File \u001b[1;32mc:\\Users\\msi thin\\AppData\\Local\\Programs\\Python\\Python311\\Lib\\site-packages\\langchain_community\\vectorstores\\faiss.py:1041\u001b[0m, in \u001b[0;36mFAISS.from_texts\u001b[1;34m(cls, texts, embedding, metadatas, ids, **kwargs)\u001b[0m\n\u001b[0;32m   1014\u001b[0m \u001b[38;5;129m@classmethod\u001b[39m\n\u001b[0;32m   1015\u001b[0m \u001b[38;5;28;01mdef\u001b[39;00m \u001b[38;5;21mfrom_texts\u001b[39m(\n\u001b[0;32m   1016\u001b[0m     \u001b[38;5;28mcls\u001b[39m,\n\u001b[1;32m   (...)\u001b[0m\n\u001b[0;32m   1021\u001b[0m     \u001b[38;5;241m*\u001b[39m\u001b[38;5;241m*\u001b[39mkwargs: Any,\n\u001b[0;32m   1022\u001b[0m ) \u001b[38;5;241m-\u001b[39m\u001b[38;5;241m>\u001b[39m FAISS:\n\u001b[0;32m   1023\u001b[0m \u001b[38;5;250m    \u001b[39m\u001b[38;5;124;03m\"\"\"Construct FAISS wrapper from raw documents.\u001b[39;00m\n\u001b[0;32m   1024\u001b[0m \n\u001b[0;32m   1025\u001b[0m \u001b[38;5;124;03m    This is a user friendly interface that:\u001b[39;00m\n\u001b[1;32m   (...)\u001b[0m\n\u001b[0;32m   1039\u001b[0m \u001b[38;5;124;03m            faiss = FAISS.from_texts(texts, embeddings)\u001b[39;00m\n\u001b[0;32m   1040\u001b[0m \u001b[38;5;124;03m    \"\"\"\u001b[39;00m\n\u001b[1;32m-> 1041\u001b[0m     embeddings \u001b[38;5;241m=\u001b[39m \u001b[43membedding\u001b[49m\u001b[38;5;241;43m.\u001b[39;49m\u001b[43membed_documents\u001b[49m\u001b[43m(\u001b[49m\u001b[43mtexts\u001b[49m\u001b[43m)\u001b[49m\n\u001b[0;32m   1042\u001b[0m     \u001b[38;5;28;01mreturn\u001b[39;00m \u001b[38;5;28mcls\u001b[39m\u001b[38;5;241m.\u001b[39m__from(\n\u001b[0;32m   1043\u001b[0m         texts,\n\u001b[0;32m   1044\u001b[0m         embeddings,\n\u001b[1;32m   (...)\u001b[0m\n\u001b[0;32m   1048\u001b[0m         \u001b[38;5;241m*\u001b[39m\u001b[38;5;241m*\u001b[39mkwargs,\n\u001b[0;32m   1049\u001b[0m     )\n",
      "File \u001b[1;32mc:\\Users\\msi thin\\AppData\\Local\\Programs\\Python\\Python311\\Lib\\site-packages\\langchain_openai\\embeddings\\base.py:592\u001b[0m, in \u001b[0;36mOpenAIEmbeddings.embed_documents\u001b[1;34m(self, texts, chunk_size)\u001b[0m\n\u001b[0;32m    589\u001b[0m \u001b[38;5;66;03m# NOTE: to keep things simple, we assume the list may contain texts longer\u001b[39;00m\n\u001b[0;32m    590\u001b[0m \u001b[38;5;66;03m#       than the maximum context and use length-safe embedding function.\u001b[39;00m\n\u001b[0;32m    591\u001b[0m engine \u001b[38;5;241m=\u001b[39m cast(\u001b[38;5;28mstr\u001b[39m, \u001b[38;5;28mself\u001b[39m\u001b[38;5;241m.\u001b[39mdeployment)\n\u001b[1;32m--> 592\u001b[0m \u001b[38;5;28;01mreturn\u001b[39;00m \u001b[38;5;28;43mself\u001b[39;49m\u001b[38;5;241;43m.\u001b[39;49m\u001b[43m_get_len_safe_embeddings\u001b[49m\u001b[43m(\u001b[49m\u001b[43mtexts\u001b[49m\u001b[43m,\u001b[49m\u001b[43m \u001b[49m\u001b[43mengine\u001b[49m\u001b[38;5;241;43m=\u001b[39;49m\u001b[43mengine\u001b[49m\u001b[43m)\u001b[49m\n",
      "File \u001b[1;32mc:\\Users\\msi thin\\AppData\\Local\\Programs\\Python\\Python311\\Lib\\site-packages\\langchain_openai\\embeddings\\base.py:490\u001b[0m, in \u001b[0;36mOpenAIEmbeddings._get_len_safe_embeddings\u001b[1;34m(self, texts, engine, chunk_size)\u001b[0m\n\u001b[0;32m    488\u001b[0m batched_embeddings: List[List[\u001b[38;5;28mfloat\u001b[39m]] \u001b[38;5;241m=\u001b[39m []\n\u001b[0;32m    489\u001b[0m \u001b[38;5;28;01mfor\u001b[39;00m i \u001b[38;5;129;01min\u001b[39;00m _iter:\n\u001b[1;32m--> 490\u001b[0m     response \u001b[38;5;241m=\u001b[39m \u001b[38;5;28;43mself\u001b[39;49m\u001b[38;5;241;43m.\u001b[39;49m\u001b[43mclient\u001b[49m\u001b[38;5;241;43m.\u001b[39;49m\u001b[43mcreate\u001b[49m\u001b[43m(\u001b[49m\n\u001b[0;32m    491\u001b[0m \u001b[43m        \u001b[49m\u001b[38;5;28;43minput\u001b[39;49m\u001b[38;5;241;43m=\u001b[39;49m\u001b[43mtokens\u001b[49m\u001b[43m[\u001b[49m\u001b[43mi\u001b[49m\u001b[43m \u001b[49m\u001b[43m:\u001b[49m\u001b[43m \u001b[49m\u001b[43mi\u001b[49m\u001b[43m \u001b[49m\u001b[38;5;241;43m+\u001b[39;49m\u001b[43m \u001b[49m\u001b[43m_chunk_size\u001b[49m\u001b[43m]\u001b[49m\u001b[43m,\u001b[49m\u001b[43m \u001b[49m\u001b[38;5;241;43m*\u001b[39;49m\u001b[38;5;241;43m*\u001b[39;49m\u001b[38;5;28;43mself\u001b[39;49m\u001b[38;5;241;43m.\u001b[39;49m\u001b[43m_invocation_params\u001b[49m\n\u001b[0;32m    492\u001b[0m \u001b[43m    \u001b[49m\u001b[43m)\u001b[49m\n\u001b[0;32m    493\u001b[0m     \u001b[38;5;28;01mif\u001b[39;00m \u001b[38;5;129;01mnot\u001b[39;00m \u001b[38;5;28misinstance\u001b[39m(response, \u001b[38;5;28mdict\u001b[39m):\n\u001b[0;32m    494\u001b[0m         response \u001b[38;5;241m=\u001b[39m response\u001b[38;5;241m.\u001b[39mmodel_dump()\n",
      "File \u001b[1;32mc:\\Users\\msi thin\\AppData\\Local\\Programs\\Python\\Python311\\Lib\\site-packages\\openai\\resources\\embeddings.py:128\u001b[0m, in \u001b[0;36mEmbeddings.create\u001b[1;34m(self, input, model, dimensions, encoding_format, user, extra_headers, extra_query, extra_body, timeout)\u001b[0m\n\u001b[0;32m    122\u001b[0m             embedding\u001b[38;5;241m.\u001b[39membedding \u001b[38;5;241m=\u001b[39m np\u001b[38;5;241m.\u001b[39mfrombuffer(  \u001b[38;5;66;03m# type: ignore[no-untyped-call]\u001b[39;00m\n\u001b[0;32m    123\u001b[0m                 base64\u001b[38;5;241m.\u001b[39mb64decode(data), dtype\u001b[38;5;241m=\u001b[39m\u001b[38;5;124m\"\u001b[39m\u001b[38;5;124mfloat32\u001b[39m\u001b[38;5;124m\"\u001b[39m\n\u001b[0;32m    124\u001b[0m             )\u001b[38;5;241m.\u001b[39mtolist()\n\u001b[0;32m    126\u001b[0m     \u001b[38;5;28;01mreturn\u001b[39;00m obj\n\u001b[1;32m--> 128\u001b[0m \u001b[38;5;28;01mreturn\u001b[39;00m \u001b[38;5;28;43mself\u001b[39;49m\u001b[38;5;241;43m.\u001b[39;49m\u001b[43m_post\u001b[49m\u001b[43m(\u001b[49m\n\u001b[0;32m    129\u001b[0m \u001b[43m    \u001b[49m\u001b[38;5;124;43m\"\u001b[39;49m\u001b[38;5;124;43m/embeddings\u001b[39;49m\u001b[38;5;124;43m\"\u001b[39;49m\u001b[43m,\u001b[49m\n\u001b[0;32m    130\u001b[0m \u001b[43m    \u001b[49m\u001b[43mbody\u001b[49m\u001b[38;5;241;43m=\u001b[39;49m\u001b[43mmaybe_transform\u001b[49m\u001b[43m(\u001b[49m\u001b[43mparams\u001b[49m\u001b[43m,\u001b[49m\u001b[43m \u001b[49m\u001b[43membedding_create_params\u001b[49m\u001b[38;5;241;43m.\u001b[39;49m\u001b[43mEmbeddingCreateParams\u001b[49m\u001b[43m)\u001b[49m\u001b[43m,\u001b[49m\n\u001b[0;32m    131\u001b[0m \u001b[43m    \u001b[49m\u001b[43moptions\u001b[49m\u001b[38;5;241;43m=\u001b[39;49m\u001b[43mmake_request_options\u001b[49m\u001b[43m(\u001b[49m\n\u001b[0;32m    132\u001b[0m \u001b[43m        \u001b[49m\u001b[43mextra_headers\u001b[49m\u001b[38;5;241;43m=\u001b[39;49m\u001b[43mextra_headers\u001b[49m\u001b[43m,\u001b[49m\n\u001b[0;32m    133\u001b[0m \u001b[43m        \u001b[49m\u001b[43mextra_query\u001b[49m\u001b[38;5;241;43m=\u001b[39;49m\u001b[43mextra_query\u001b[49m\u001b[43m,\u001b[49m\n\u001b[0;32m    134\u001b[0m \u001b[43m        \u001b[49m\u001b[43mextra_body\u001b[49m\u001b[38;5;241;43m=\u001b[39;49m\u001b[43mextra_body\u001b[49m\u001b[43m,\u001b[49m\n\u001b[0;32m    135\u001b[0m \u001b[43m        \u001b[49m\u001b[43mtimeout\u001b[49m\u001b[38;5;241;43m=\u001b[39;49m\u001b[43mtimeout\u001b[49m\u001b[43m,\u001b[49m\n\u001b[0;32m    136\u001b[0m \u001b[43m        \u001b[49m\u001b[43mpost_parser\u001b[49m\u001b[38;5;241;43m=\u001b[39;49m\u001b[43mparser\u001b[49m\u001b[43m,\u001b[49m\n\u001b[0;32m    137\u001b[0m \u001b[43m    \u001b[49m\u001b[43m)\u001b[49m\u001b[43m,\u001b[49m\n\u001b[0;32m    138\u001b[0m \u001b[43m    \u001b[49m\u001b[43mcast_to\u001b[49m\u001b[38;5;241;43m=\u001b[39;49m\u001b[43mCreateEmbeddingResponse\u001b[49m\u001b[43m,\u001b[49m\n\u001b[0;32m    139\u001b[0m \u001b[43m\u001b[49m\u001b[43m)\u001b[49m\n",
      "File \u001b[1;32mc:\\Users\\msi thin\\AppData\\Local\\Programs\\Python\\Python311\\Lib\\site-packages\\openai\\_base_client.py:1290\u001b[0m, in \u001b[0;36mSyncAPIClient.post\u001b[1;34m(self, path, cast_to, body, options, files, stream, stream_cls)\u001b[0m\n\u001b[0;32m   1276\u001b[0m \u001b[38;5;28;01mdef\u001b[39;00m \u001b[38;5;21mpost\u001b[39m(\n\u001b[0;32m   1277\u001b[0m     \u001b[38;5;28mself\u001b[39m,\n\u001b[0;32m   1278\u001b[0m     path: \u001b[38;5;28mstr\u001b[39m,\n\u001b[1;32m   (...)\u001b[0m\n\u001b[0;32m   1285\u001b[0m     stream_cls: \u001b[38;5;28mtype\u001b[39m[_StreamT] \u001b[38;5;241m|\u001b[39m \u001b[38;5;28;01mNone\u001b[39;00m \u001b[38;5;241m=\u001b[39m \u001b[38;5;28;01mNone\u001b[39;00m,\n\u001b[0;32m   1286\u001b[0m ) \u001b[38;5;241m-\u001b[39m\u001b[38;5;241m>\u001b[39m ResponseT \u001b[38;5;241m|\u001b[39m _StreamT:\n\u001b[0;32m   1287\u001b[0m     opts \u001b[38;5;241m=\u001b[39m FinalRequestOptions\u001b[38;5;241m.\u001b[39mconstruct(\n\u001b[0;32m   1288\u001b[0m         method\u001b[38;5;241m=\u001b[39m\u001b[38;5;124m\"\u001b[39m\u001b[38;5;124mpost\u001b[39m\u001b[38;5;124m\"\u001b[39m, url\u001b[38;5;241m=\u001b[39mpath, json_data\u001b[38;5;241m=\u001b[39mbody, files\u001b[38;5;241m=\u001b[39mto_httpx_files(files), \u001b[38;5;241m*\u001b[39m\u001b[38;5;241m*\u001b[39moptions\n\u001b[0;32m   1289\u001b[0m     )\n\u001b[1;32m-> 1290\u001b[0m     \u001b[38;5;28;01mreturn\u001b[39;00m cast(ResponseT, \u001b[38;5;28;43mself\u001b[39;49m\u001b[38;5;241;43m.\u001b[39;49m\u001b[43mrequest\u001b[49m\u001b[43m(\u001b[49m\u001b[43mcast_to\u001b[49m\u001b[43m,\u001b[49m\u001b[43m \u001b[49m\u001b[43mopts\u001b[49m\u001b[43m,\u001b[49m\u001b[43m \u001b[49m\u001b[43mstream\u001b[49m\u001b[38;5;241;43m=\u001b[39;49m\u001b[43mstream\u001b[49m\u001b[43m,\u001b[49m\u001b[43m \u001b[49m\u001b[43mstream_cls\u001b[49m\u001b[38;5;241;43m=\u001b[39;49m\u001b[43mstream_cls\u001b[49m\u001b[43m)\u001b[49m)\n",
      "File \u001b[1;32mc:\\Users\\msi thin\\AppData\\Local\\Programs\\Python\\Python311\\Lib\\site-packages\\openai\\_base_client.py:967\u001b[0m, in \u001b[0;36mSyncAPIClient.request\u001b[1;34m(self, cast_to, options, remaining_retries, stream, stream_cls)\u001b[0m\n\u001b[0;32m    964\u001b[0m \u001b[38;5;28;01melse\u001b[39;00m:\n\u001b[0;32m    965\u001b[0m     retries_taken \u001b[38;5;241m=\u001b[39m \u001b[38;5;241m0\u001b[39m\n\u001b[1;32m--> 967\u001b[0m \u001b[38;5;28;01mreturn\u001b[39;00m \u001b[38;5;28;43mself\u001b[39;49m\u001b[38;5;241;43m.\u001b[39;49m\u001b[43m_request\u001b[49m\u001b[43m(\u001b[49m\n\u001b[0;32m    968\u001b[0m \u001b[43m    \u001b[49m\u001b[43mcast_to\u001b[49m\u001b[38;5;241;43m=\u001b[39;49m\u001b[43mcast_to\u001b[49m\u001b[43m,\u001b[49m\n\u001b[0;32m    969\u001b[0m \u001b[43m    \u001b[49m\u001b[43moptions\u001b[49m\u001b[38;5;241;43m=\u001b[39;49m\u001b[43moptions\u001b[49m\u001b[43m,\u001b[49m\n\u001b[0;32m    970\u001b[0m \u001b[43m    \u001b[49m\u001b[43mstream\u001b[49m\u001b[38;5;241;43m=\u001b[39;49m\u001b[43mstream\u001b[49m\u001b[43m,\u001b[49m\n\u001b[0;32m    971\u001b[0m \u001b[43m    \u001b[49m\u001b[43mstream_cls\u001b[49m\u001b[38;5;241;43m=\u001b[39;49m\u001b[43mstream_cls\u001b[49m\u001b[43m,\u001b[49m\n\u001b[0;32m    972\u001b[0m \u001b[43m    \u001b[49m\u001b[43mretries_taken\u001b[49m\u001b[38;5;241;43m=\u001b[39;49m\u001b[43mretries_taken\u001b[49m\u001b[43m,\u001b[49m\n\u001b[0;32m    973\u001b[0m \u001b[43m\u001b[49m\u001b[43m)\u001b[49m\n",
      "File \u001b[1;32mc:\\Users\\msi thin\\AppData\\Local\\Programs\\Python\\Python311\\Lib\\site-packages\\openai\\_base_client.py:1071\u001b[0m, in \u001b[0;36mSyncAPIClient._request\u001b[1;34m(self, cast_to, options, retries_taken, stream, stream_cls)\u001b[0m\n\u001b[0;32m   1068\u001b[0m         err\u001b[38;5;241m.\u001b[39mresponse\u001b[38;5;241m.\u001b[39mread()\n\u001b[0;32m   1070\u001b[0m     log\u001b[38;5;241m.\u001b[39mdebug(\u001b[38;5;124m\"\u001b[39m\u001b[38;5;124mRe-raising status error\u001b[39m\u001b[38;5;124m\"\u001b[39m)\n\u001b[1;32m-> 1071\u001b[0m     \u001b[38;5;28;01mraise\u001b[39;00m \u001b[38;5;28mself\u001b[39m\u001b[38;5;241m.\u001b[39m_make_status_error_from_response(err\u001b[38;5;241m.\u001b[39mresponse) \u001b[38;5;28;01mfrom\u001b[39;00m \u001b[38;5;28;01mNone\u001b[39;00m\n\u001b[0;32m   1073\u001b[0m \u001b[38;5;28;01mreturn\u001b[39;00m \u001b[38;5;28mself\u001b[39m\u001b[38;5;241m.\u001b[39m_process_response(\n\u001b[0;32m   1074\u001b[0m     cast_to\u001b[38;5;241m=\u001b[39mcast_to,\n\u001b[0;32m   1075\u001b[0m     options\u001b[38;5;241m=\u001b[39moptions,\n\u001b[1;32m   (...)\u001b[0m\n\u001b[0;32m   1079\u001b[0m     retries_taken\u001b[38;5;241m=\u001b[39mretries_taken,\n\u001b[0;32m   1080\u001b[0m )\n",
      "\u001b[1;31mAuthenticationError\u001b[0m: Error code: 401 - {'error': {'message': 'Incorrect API key provided: sk-proj-********************************************************************************************************************************************************4XIA. You can find your API key at https://platform.openai.com/account/api-keys.', 'type': 'invalid_request_error', 'param': None, 'code': 'invalid_api_key'}}"
     ]
    }
   ],
   "source": [
    "vectorstore = FAISS.from_documents(\n",
    "    documents=splits, \n",
    "    embedding=OpenAIEmbeddings(model=\"text-embedding-3-large\")\n",
    ")\n",
    "retriever = vectorstore.as_retriever()\n",
    "# retriever=vectorstore.as_retriever(search_type=\"similarity_score_threshold\", search_kwargs={\n",
    "#                               'score_threshold': 0.5})\n",
    "\n",
    "model = HuggingFaceCrossEncoder(model_name=\"cross-encoder/ms-marco-MiniLM-L-2-v2\")\n",
    "compressor = CrossEncoderReranker(model=model, top_n=3)\n",
    "compression_retriever = ContextualCompressionRetriever(\n",
    "    base_compressor=compressor, base_retriever=retriever\n",
    ")"
   ]
  },
  {
   "cell_type": "code",
   "execution_count": 8,
   "metadata": {},
   "outputs": [],
   "source": [
    "# Some useful db operations\n",
    "\n",
    "# vectorstore.index.reset()\n",
    "# vectorstore.index.ntotal\n",
    "# vectorstore.index.reconstruct(0)"
   ]
  },
  {
   "cell_type": "code",
   "execution_count": 9,
   "metadata": {},
   "outputs": [
    {
     "data": {
      "text/plain": [
       "ContextualCompressionRetriever(base_compressor=CrossEncoderReranker(model=HuggingFaceCrossEncoder(client=<sentence_transformers.cross_encoder.CrossEncoder.CrossEncoder object at 0x000001A11D0F5670>, model_name='cross-encoder/ms-marco-MiniLM-L-2-v2', model_kwargs={}), top_n=3), base_retriever=VectorStoreRetriever(tags=['FAISS', 'OpenAIEmbeddings'], vectorstore=<langchain_community.vectorstores.faiss.FAISS object at 0x000001A17987C3B0>, search_kwargs={}))"
      ]
     },
     "execution_count": 9,
     "metadata": {},
     "output_type": "execute_result"
    }
   ],
   "source": [
    "compression_retriever"
   ]
  },
  {
   "cell_type": "code",
   "execution_count": 10,
   "metadata": {},
   "outputs": [],
   "source": [
    "### Contextualize question ###\n",
    "contextualize_q_system_prompt = \"\"\"Given a chat history and the latest user question \\\n",
    "which might reference context in the chat history, formulate a standalone question \\\n",
    "which can be understood without the chat history. Do NOT answer the question, \\\n",
    "just reformulate it if needed and otherwise return it as is.\"\"\"\n",
    "\n",
    "contextualize_q_prompt = ChatPromptTemplate.from_messages(\n",
    "    [\n",
    "        (\"system\", contextualize_q_system_prompt),\n",
    "        MessagesPlaceholder(\"chat_history\"),\n",
    "        (\"human\", \"{input}\"),\n",
    "    ]\n",
    ")"
   ]
  },
  {
   "cell_type": "code",
   "execution_count": 11,
   "metadata": {},
   "outputs": [],
   "source": [
    "history_aware_retriever = create_history_aware_retriever(\n",
    "    generative_llm, compression_retriever, contextualize_q_prompt\n",
    ")"
   ]
  },
  {
   "cell_type": "code",
   "execution_count": 12,
   "metadata": {},
   "outputs": [],
   "source": [
    "### Answer question ###\n",
    "qa_system_prompt = \"\"\"You are an assistant for question-answering tasks. \\\n",
    "Use ONLY the provided retrieved context to answer the question. \\\n",
    "If the context does not contain relevant information, simply respond with: \\\n",
    "\"I don’t know based on the given information.\" \\\n",
    "\n",
    "Retrieved context: \n",
    "{context}\"\"\"\n",
    "\n",
    "qa_prompt = ChatPromptTemplate.from_messages(\n",
    "    [\n",
    "        (\"system\", qa_system_prompt),\n",
    "        MessagesPlaceholder(\"chat_history\"),\n",
    "        (\"human\", \"{input}\"),\n",
    "    ]\n",
    ")\n",
    "\n",
    "question_answer_chain = create_stuff_documents_chain(generative_llm, qa_prompt)\n",
    "rag_chain = create_retrieval_chain(history_aware_retriever, question_answer_chain)"
   ]
  },
  {
   "cell_type": "code",
   "execution_count": 13,
   "metadata": {},
   "outputs": [],
   "source": [
    "### Statefully manage chat history ###\n",
    "store = {}\n",
    "session_id = \"chatbot_first_session\"\n",
    "\n",
    "def get_session_history(session_id: str) -> BaseChatMessageHistory:\n",
    "    if session_id not in store:\n",
    "        store[session_id] = ChatMessageHistory()\n",
    "    return store[session_id]"
   ]
  },
  {
   "cell_type": "code",
   "execution_count": 14,
   "metadata": {},
   "outputs": [],
   "source": [
    "conversational_rag_chain = RunnableWithMessageHistory(\n",
    "    rag_chain,\n",
    "    get_session_history,\n",
    "    input_messages_key=\"input\",\n",
    "    history_messages_key=\"chat_history\",\n",
    "    output_messages_key=\"answer\",\n",
    ")"
   ]
  },
  {
   "cell_type": "code",
   "execution_count": 15,
   "metadata": {},
   "outputs": [
    {
     "data": {
      "text/plain": [
       "{}"
      ]
     },
     "execution_count": 15,
     "metadata": {},
     "output_type": "execute_result"
    }
   ],
   "source": [
    "store"
   ]
  },
  {
   "cell_type": "code",
   "execution_count": 16,
   "metadata": {},
   "outputs": [
    {
     "data": {
      "text/plain": [
       "'\"Arşın Mal Alan\" filmi Azərbaycan mədəniyyətinə və kinematoqrafiyasına əhəmiyyətli töhfə vermişdir. Bu film Azərbaycanın milli kimliyini və mədəni irsini dünya miqyasında tanıtmışdır. Filmin musiqisi də bu prosesdə mühüm rol oynayır. Son illərdə filmin yenidən bərpası məsələsi aktualdır və rəngləndirilməsi, yeni formatda nümayişi planlaşdırılır ki, bu da filmin daha geniş auditoriya tərəfindən qəbuluna kömək edəcək. Həmçinin, filmə həsr olunmuş mədəni tədbirlər keçirilir ki, bu da onun mədəni əhəmiyyətini daha da artırır.'"
      ]
     },
     "execution_count": 16,
     "metadata": {},
     "output_type": "execute_result"
    }
   ],
   "source": [
    "conversational_rag_chain.invoke(\n",
    "    {\"input\": \"Arşın mal alan barədə məlumat ver\"},\n",
    "    config={\n",
    "        \"configurable\": {\"session_id\": session_id}\n",
    "    }, \n",
    ")[\"answer\"]"
   ]
  },
  {
   "cell_type": "code",
   "execution_count": 17,
   "metadata": {},
   "outputs": [
    {
     "data": {
      "text/plain": [
       "'\"Arşın mal alan\" barədə məlumat ver.'"
      ]
     },
     "execution_count": 17,
     "metadata": {},
     "output_type": "execute_result"
    }
   ],
   "source": [
    "conversational_rag_chain.invoke(\n",
    "    {\"input\": \"Son sualımı təkrarla?\"},\n",
    "    config={\n",
    "        \"configurable\": {\"session_id\": session_id}\n",
    "        },\n",
    "        \n",
    ")[\"answer\"] "
   ]
  },
  {
   "cell_type": "code",
   "execution_count": 18,
   "metadata": {},
   "outputs": [
    {
     "name": "stdout",
     "output_type": "stream",
     "text": [
      "{'chatbot_first_session': InMemoryChatMessageHistory(messages=[HumanMessage(content='Arşın mal alan barədə məlumat ver', additional_kwargs={}, response_metadata={}), AIMessage(content='\"Arşın Mal Alan\" filmi Azərbaycan mədəniyyətinə və kinematoqrafiyasına əhəmiyyətli töhfə vermişdir. Bu film Azərbaycanın milli kimliyini və mədəni irsini dünya miqyasında tanıtmışdır. Filmin musiqisi də bu prosesdə mühüm rol oynayır. Son illərdə filmin yenidən bərpası məsələsi aktualdır və rəngləndirilməsi, yeni formatda nümayişi planlaşdırılır ki, bu da filmin daha geniş auditoriya tərəfindən qəbuluna kömək edəcək. Həmçinin, filmə həsr olunmuş mədəni tədbirlər keçirilir ki, bu da onun mədəni əhəmiyyətini daha da artırır.', additional_kwargs={}, response_metadata={}), HumanMessage(content='Son sualımı təkrarla?', additional_kwargs={}, response_metadata={}), AIMessage(content='\"Arşın mal alan\" barədə məlumat ver.', additional_kwargs={}, response_metadata={})])}\n"
     ]
    }
   ],
   "source": [
    "pprint.pprint(store)"
   ]
  },
  {
   "cell_type": "code",
   "execution_count": 19,
   "metadata": {},
   "outputs": [
    {
     "name": "stdout",
     "output_type": "stream",
     "text": [
      "HUMAN: Arşın mal alan barədə məlumat ver\n",
      "AI: \"Arşın Mal Alan\" filmi Azərbaycan mədəniyyətinə və kinematoqrafiyasına əhəmiyyətli töhfə vermişdir. Bu film Azərbaycanın milli kimliyini və mədəni irsini dünya miqyasında tanıtmışdır. Filmin musiqisi də bu prosesdə mühüm rol oynayır. Son illərdə filmin yenidən bərpası məsələsi aktualdır və rəngləndirilməsi, yeni formatda nümayişi planlaşdırılır ki, bu da filmin daha geniş auditoriya tərəfindən qəbuluna kömək edəcək. Həmçinin, filmə həsr olunmuş mədəni tədbirlər keçirilir ki, bu da onun mədəni əhəmiyyətini daha da artırır.\n",
      "HUMAN: Son sualımı təkrarla?\n",
      "AI: \"Arşın mal alan\" barədə məlumat ver.\n"
     ]
    }
   ],
   "source": [
    "for msg in store[session_id].messages:\n",
    "    print(f\"{msg.type.upper()}: {msg.content}\")\n",
    "\n",
    "response = conversational_rag_chain.invoke(\n",
    "    {\"input\": \"Can you list all questions that I've addressed to you so far?\"},\n",
    "    config={\"configurable\": {\"session_id\": session_id}},\n",
    ")[\"answer\"]\n"
   ]
  },
  {
   "cell_type": "code",
   "execution_count": 20,
   "metadata": {},
   "outputs": [
    {
     "data": {
      "text/plain": [
       "[Document(id='0d7094fd-8a4b-4f09-a0ec-711969cff58f', metadata={'source': 'data/data_arshin_mal_alan.docx'}, page_content='IMDb: ID1573789'),\n",
       " Document(id='8e7f580a-6c80-4d8a-af39-2be216399115', metadata={'source': 'data/data_arshin_mal_alan.docx'}, page_content='Mədəni Tədbirlər\\n\\n\"Arşın Mal Alan\" filminə həsr olunmuş mədəni tədbirlər keçirilir. Bu tədbirlər filmin mədəni əhəmiyyətini daha da artırır.\\n\\nTəhsil Prosesində İstifadə'),\n",
       " Document(id='0b381dfb-d94b-4793-9d88-5ce57ca901c2', metadata={'source': 'data/data_arshin_mal_alan.docx'}, page_content='Arşın mal alan'),\n",
       " Document(id='dea63a8f-3952-426d-9046-eac0168626e4', metadata={'source': 'data/data_arshin_mal_alan.docx'}, page_content='Baş Rollarda: Həsən Məmmədov, Leyla Şıxlinskaya, Ağadadaş Qurbanov, Nəcibə Məlikova, Hacımurad Yegizarov, Xuraman Hacıyeva, Tələt Rəhmanov, Səfurə İbrahimova\\n\\n\\nOperator: İlya Minkovetski')]"
      ]
     },
     "execution_count": 20,
     "metadata": {},
     "output_type": "execute_result"
    }
   ],
   "source": [
    "retriever.invoke(\n",
    "    input=\"Do you know anything about AILAB\", \n",
    "    config={}\n",
    ")"
   ]
  },
  {
   "cell_type": "code",
   "execution_count": 23,
   "metadata": {},
   "outputs": [
    {
     "name": "stdout",
     "output_type": "stream",
     "text": [
      "----\n",
      "Document:\n",
      " Musiqi\n",
      "Metadata: {'source': 'data/data_arshin_mal_alan.docx'}\n",
      "Score: 0.7893481\n",
      "----\n",
      "Document:\n",
      " Məzmun\n",
      "Metadata: {'source': 'data/data_arshin_mal_alan.docx'}\n",
      "Score: 0.8806992\n",
      "----\n",
      "Document:\n",
      " daha geniş auditoriya tərəfindən qəbuluna kömək edəcəkdir.\n",
      "Metadata: {'source': 'data/data_arshin_mal_alan.docx'}\n",
      "Score: 1.1139009\n",
      "----\n",
      "Document:\n",
      " Filmin Təsiri\n",
      "Metadata: {'source': 'data/data_arshin_mal_alan.docx'}\n",
      "Score: 1.1199505\n",
      "----\n",
      "Document:\n",
      " dünya miqyasında tanıtmışdır. Filmin musiqisi və məzmunu izləyicilərə Azərbaycanın zəngin mədəni irsini göstərir.\n",
      "Metadata: {'source': 'data/data_arshin_mal_alan.docx'}\n",
      "Score: 1.1260152\n"
     ]
    }
   ],
   "source": [
    "query = \"musiqini kim bəstələyib\"\n",
    "docs_and_scores = vectorstore.similarity_search_with_score(query, k=5)\n",
    "\n",
    "for doc, score in docs_and_scores:\n",
    "    print(\"----\")\n",
    "    print(\"Document:\\n\", doc.page_content)\n",
    "    print(\"Metadata:\", doc.metadata)\n",
    "    print(\"Score:\", score)"
   ]
  },
  {
   "cell_type": "code",
   "execution_count": null,
   "metadata": {},
   "outputs": [],
   "source": []
  },
  {
   "cell_type": "code",
   "execution_count": null,
   "metadata": {},
   "outputs": [],
   "source": []
  }
 ],
 "metadata": {
  "kernelspec": {
   "display_name": "Python 3",
   "language": "python",
   "name": "python3"
  },
  "language_info": {
   "codemirror_mode": {
    "name": "ipython",
    "version": 3
   },
   "file_extension": ".py",
   "mimetype": "text/x-python",
   "name": "python",
   "nbconvert_exporter": "python",
   "pygments_lexer": "ipython3",
   "version": "3.11.4"
  }
 },
 "nbformat": 4,
 "nbformat_minor": 2
}
