{
 "cells": [
  {
   "cell_type": "code",
   "execution_count": null,
   "metadata": {},
   "outputs": [],
   "source": [
    "import os\n",
    "import json\n",
    "# from fastapi import FastAPI\n",
    "# from pydantic import BaseModel\n",
    "from dotenv import load_dotenv\n",
    "from langchain_openai import OpenAIEmbeddings, OpenAI\n",
    "# from langchain_openai import ChatOpenAI\n",
    "# from langchain.prompts import PromptTemplate\n",
    "# from langchain.memory import ConversationBufferMemory\n",
    "from langchain_community.vectorstores import FAISS\n",
    "from langchain.text_splitter import RecursiveCharacterTextSplitter, RecursiveJsonSplitter\n",
    "# from langchain.schema import Document\n",
    "from langchain_community.document_loaders import TextLoader, JSONLoader\n",
    "from langchain_core.vectorstores import VectorStoreRetriever\n",
    "from langchain.chains import RetrievalQA\n",
    "from langchain.schema import Document\n"
   ]
  },
  {
   "cell_type": "code",
   "execution_count": null,
   "metadata": {},
   "outputs": [
    {
     "data": {
      "text/plain": [
       "[Document(metadata={'title': 'AI Chatbot Workshop', 'duration': '2 hours', 'max_participants': 20}, page_content='{\\n  \"title\": \"AI Chatbot Workshop\",\\n  \"duration\": \"2 hours\",\\n  \"max_participants\": 20,\\n  \"topics\": [\\n    \"What are chatbots and their purposes\",\\n    \"How to start creating a chatbot\",\\n    \"Practical chatbot development\"\\n  ]\\n}'),\n",
       " Document(metadata={'title': 'comp science Workshop', 'duration': '5 hours', 'max_participants': 10}, page_content='{\\n  \"title\": \"comp science Workshop\",\\n  \"duration\": \"5 hours\",\\n  \"max_participants\": 10,\\n  \"topics\": [\\n    \"What are comp science subjects and their purposes\",\\n    \"How to start comp science\"\\n  ]\\n}')]"
      ]
     },
     "execution_count": 67,
     "metadata": {},
     "output_type": "execute_result"
    }
   ],
   "source": [
    "with open('data/data.json', 'r') as file:\n",
    "    workshops_data = json.load(file)\n",
    "\n",
    "workshop_documents = []\n",
    "\n",
    "for workshop in workshops_data:\n",
    "    content = json.dumps(workshop, indent=2)\n",
    "    \n",
    "    doc = Document(\n",
    "        page_content=content,\n",
    "        metadata={\n",
    "            \"title\": workshop[\"title\"],\n",
    "            \"duration\": workshop[\"duration\"],\n",
    "            \"max_participants\": workshop[\"max_participants\"]\n",
    "        }\n",
    "    )\n",
    "    workshop_documents.append(doc)\n",
    "\n",
    "workshop_documents"
   ]
  },
  {
   "cell_type": "code",
   "execution_count": 68,
   "metadata": {},
   "outputs": [],
   "source": [
    "\n",
    "# Load environment variables\n",
    "load_dotenv()\n",
    "open_api_key = os.getenv(\"OPENAI_API_KEY\")\n",
    "if not open_api_key:\n",
    "    raise ValueError(\"OPENAI_API_KEY is not set\")"
   ]
  },
  {
   "cell_type": "code",
   "execution_count": 3,
   "metadata": {},
   "outputs": [],
   "source": [
    "loader = TextLoader(\"data/data.txt\", encoding=\"utf-8\")\n",
    "documents = loader.load()\n",
    "\n",
    "text_splitter = RecursiveCharacterTextSplitter(\n",
    "    chunk_size=100,\n",
    "    chunk_overlap=0,\n",
    "    length_function=len\n",
    ")\n",
    "\n"
   ]
  },
  {
   "cell_type": "code",
   "execution_count": null,
   "metadata": {},
   "outputs": [
    {
     "data": {
      "text/plain": [
       "[Document(metadata={'source': 'data/data.txt'}, page_content='Azercell is the only company in Azerbaijan and CIS region which has been awarded Platinum'),\n",
       " Document(metadata={'source': 'data/data.txt'}, page_content='Certificate of International “Investors in People” Standard. The mobile operator is the only'),\n",
       " Document(metadata={'source': 'data/data.txt'}, page_content='company in the country to receive Gold Award in nominations of \"Company of the Year\" and “The Most'),\n",
       " Document(metadata={'source': 'data/data.txt'}, page_content='Innovative Company of the Year” from the International Business Award  STEVIE.')]"
      ]
     },
     "execution_count": 4,
     "metadata": {},
     "output_type": "execute_result"
    }
   ],
   "source": [
    "docs = text_splitter.split_documents(documents)\n",
    "docs"
   ]
  },
  {
   "cell_type": "code",
   "execution_count": 82,
   "metadata": {},
   "outputs": [],
   "source": [
    "docs=workshop_documents"
   ]
  },
  {
   "cell_type": "code",
   "execution_count": 83,
   "metadata": {},
   "outputs": [
    {
     "data": {
      "text/plain": [
       "[Document(metadata={'title': 'AI Chatbot Workshop', 'duration': '2 hours', 'max_participants': 20}, page_content='{\\n  \"title\": \"AI Chatbot Workshop\",\\n  \"duration\": \"2 hours\",\\n  \"max_participants\": 20,\\n  \"topics\": [\\n    \"What are chatbots and their purposes\",\\n    \"How to start creating a chatbot\",\\n    \"Practical chatbot development\"\\n  ]\\n}'),\n",
       " Document(metadata={'title': 'comp science Workshop', 'duration': '5 hours', 'max_participants': 10}, page_content='{\\n  \"title\": \"comp science Workshop\",\\n  \"duration\": \"5 hours\",\\n  \"max_participants\": 10,\\n  \"topics\": [\\n    \"What are comp science subjects and their purposes\",\\n    \"How to start comp science\"\\n  ]\\n}')]"
      ]
     },
     "execution_count": 83,
     "metadata": {},
     "output_type": "execute_result"
    }
   ],
   "source": [
    "docs"
   ]
  },
  {
   "cell_type": "code",
   "execution_count": 84,
   "metadata": {},
   "outputs": [],
   "source": [
    "embeddings = OpenAIEmbeddings()\n",
    "faiss_search = FAISS.from_documents(docs, embeddings)"
   ]
  },
  {
   "cell_type": "code",
   "execution_count": 88,
   "metadata": {},
   "outputs": [],
   "source": [
    "query1 = \"what is the duration of the AI Chatbot Workshop?\"\n",
    "query1_answer = faiss_search.similarity_search(query1)"
   ]
  },
  {
   "cell_type": "code",
   "execution_count": 89,
   "metadata": {},
   "outputs": [
    {
     "data": {
      "text/plain": [
       "[Document(id='fb37440d-bdb5-4006-82c9-611071ce788e', metadata={'title': 'AI Chatbot Workshop', 'duration': '2 hours', 'max_participants': 20}, page_content='{\\n  \"title\": \"AI Chatbot Workshop\",\\n  \"duration\": \"2 hours\",\\n  \"max_participants\": 20,\\n  \"topics\": [\\n    \"What are chatbots and their purposes\",\\n    \"How to start creating a chatbot\",\\n    \"Practical chatbot development\"\\n  ]\\n}'),\n",
       " Document(id='b12415b5-b82a-42b2-a71e-4127b95ecf6e', metadata={'title': 'comp science Workshop', 'duration': '5 hours', 'max_participants': 10}, page_content='{\\n  \"title\": \"comp science Workshop\",\\n  \"duration\": \"5 hours\",\\n  \"max_participants\": 10,\\n  \"topics\": [\\n    \"What are comp science subjects and their purposes\",\\n    \"How to start comp science\"\\n  ]\\n}')]"
      ]
     },
     "execution_count": 89,
     "metadata": {},
     "output_type": "execute_result"
    }
   ],
   "source": [
    "query1_answer\n",
    "#query1_answer[0].page_content"
   ]
  },
  {
   "cell_type": "code",
   "execution_count": 90,
   "metadata": {},
   "outputs": [
    {
     "data": {
      "text/plain": [
       "[(Document(id='fb37440d-bdb5-4006-82c9-611071ce788e', metadata={'title': 'AI Chatbot Workshop', 'duration': '2 hours', 'max_participants': 20}, page_content='{\\n  \"title\": \"AI Chatbot Workshop\",\\n  \"duration\": \"2 hours\",\\n  \"max_participants\": 20,\\n  \"topics\": [\\n    \"What are chatbots and their purposes\",\\n    \"How to start creating a chatbot\",\\n    \"Practical chatbot development\"\\n  ]\\n}'),\n",
       "  np.float32(0.2670169)),\n",
       " (Document(id='b12415b5-b82a-42b2-a71e-4127b95ecf6e', metadata={'title': 'comp science Workshop', 'duration': '5 hours', 'max_participants': 10}, page_content='{\\n  \"title\": \"comp science Workshop\",\\n  \"duration\": \"5 hours\",\\n  \"max_participants\": 10,\\n  \"topics\": [\\n    \"What are comp science subjects and their purposes\",\\n    \"How to start comp science\"\\n  ]\\n}'),\n",
       "  np.float32(0.3904156))]"
      ]
     },
     "execution_count": 90,
     "metadata": {},
     "output_type": "execute_result"
    }
   ],
   "source": [
    "docs_and_scores = faiss_search.similarity_search_with_score(query1)\n",
    "docs_and_scores"
   ]
  },
  {
   "cell_type": "code",
   "execution_count": 91,
   "metadata": {},
   "outputs": [],
   "source": [
    "retreiver = faiss_search.as_retriever()\n",
    "qa = RetrievalQA.from_chain_type(llm=OpenAI(), chain_type=\"stuff\", retriever=retreiver)"
   ]
  },
  {
   "cell_type": "code",
   "execution_count": 92,
   "metadata": {},
   "outputs": [],
   "source": [
    "retreiver_query = \"what is the duration of the compscience workshop?\"\n",
    "results = qa.invoke(retreiver_query)"
   ]
  },
  {
   "cell_type": "code",
   "execution_count": 93,
   "metadata": {},
   "outputs": [
    {
     "data": {
      "text/plain": [
       "{'query': 'what is the duration of the compscience workshop?',\n",
       " 'result': ' The duration of the comp science workshop is 5 hours.'}"
      ]
     },
     "execution_count": 93,
     "metadata": {},
     "output_type": "execute_result"
    }
   ],
   "source": [
    "results"
   ]
  },
  {
   "cell_type": "code",
   "execution_count": null,
   "metadata": {},
   "outputs": [],
   "source": []
  }
 ],
 "metadata": {
  "kernelspec": {
   "display_name": "Python 3",
   "language": "python",
   "name": "python3"
  },
  "language_info": {
   "codemirror_mode": {
    "name": "ipython",
    "version": 3
   },
   "file_extension": ".py",
   "mimetype": "text/x-python",
   "name": "python",
   "nbconvert_exporter": "python",
   "pygments_lexer": "ipython3",
   "version": "3.13.0"
  }
 },
 "nbformat": 4,
 "nbformat_minor": 2
}
