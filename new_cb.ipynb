{
 "cells": [
  {
   "cell_type": "code",
   "execution_count": 21,
   "metadata": {},
   "outputs": [],
   "source": [
    "import os\n",
    "import json\n",
    "# from fastapi import FastAPI\n",
    "# from pydantic import BaseModel\n",
    "from dotenv import load_dotenv\n",
    "from langchain_openai import OpenAIEmbeddings, OpenAI\n",
    "# from langchain_openai import ChatOpenAI\n",
    "# from langchain.prompts import PromptTemplate\n",
    "# from langchain.memory import ConversationBufferMemory\n",
    "from langchain_community.vectorstores import FAISS\n",
    "from langchain.text_splitter import RecursiveCharacterTextSplitter\n",
    "# from langchain.schema import Document\n",
    "from langchain_community.document_loaders import TextLoader\n",
    "from langchain_core.vectorstores import VectorStoreRetriever\n",
    "from langchain.chains import RetrievalQA"
   ]
  },
  {
   "cell_type": "code",
   "execution_count": 22,
   "metadata": {},
   "outputs": [],
   "source": [
    "\n",
    "# Load environment variables\n",
    "load_dotenv()\n",
    "open_api_key = os.getenv(\"OPENAI_API_KEY\")\n",
    "if not open_api_key:\n",
    "    raise ValueError(\"OPENAI_API_KEY is not set\")"
   ]
  },
  {
   "cell_type": "code",
   "execution_count": 23,
   "metadata": {},
   "outputs": [],
   "source": [
    "loader = TextLoader(\"data/data.txt\", encoding=\"utf-8\")\n",
    "documents = loader.load()\n",
    "\n",
    "text_splitter = RecursiveCharacterTextSplitter(\n",
    "    chunk_size=100,\n",
    "    chunk_overlap=0,\n",
    "    length_function=len\n",
    ")\n",
    "\n"
   ]
  },
  {
   "cell_type": "code",
   "execution_count": 24,
   "metadata": {},
   "outputs": [
    {
     "data": {
      "text/plain": [
       "[Document(metadata={'source': 'data/data.txt'}, page_content='Azercell is the only company in Azerbaijan and CIS region which has been awarded Platinum'),\n",
       " Document(metadata={'source': 'data/data.txt'}, page_content='Certificate of International “Investors in People” Standard. The mobile operator is the only'),\n",
       " Document(metadata={'source': 'data/data.txt'}, page_content='company in the country to receive Gold Award in nominations of \"Company of the Year\" and “The Most'),\n",
       " Document(metadata={'source': 'data/data.txt'}, page_content='Innovative Company of the Year” from the International Business Award  STEVIE.')]"
      ]
     },
     "execution_count": 24,
     "metadata": {},
     "output_type": "execute_result"
    }
   ],
   "source": [
    "docs = text_splitter.split_documents(documents)\n",
    "docs"
   ]
  },
  {
   "cell_type": "code",
   "execution_count": 25,
   "metadata": {},
   "outputs": [],
   "source": [
    "embeddings = OpenAIEmbeddings()\n",
    "faiss_search = FAISS.from_documents(docs, embeddings)"
   ]
  },
  {
   "cell_type": "code",
   "execution_count": 26,
   "metadata": {},
   "outputs": [],
   "source": [
    "query1 = \"What unique award has Azercell won?\"\n",
    "query1_answer = faiss_search.similarity_search(query1)"
   ]
  },
  {
   "cell_type": "code",
   "execution_count": 27,
   "metadata": {},
   "outputs": [
    {
     "data": {
      "text/plain": [
       "[Document(id='dd0a31e6-ea61-4815-8ca8-08d0da4378aa', metadata={'source': 'data/data.txt'}, page_content='Azercell is the only company in Azerbaijan and CIS region which has been awarded Platinum'),\n",
       " Document(id='d04169ee-e7f3-4fd0-99b4-b9fa20f37d3a', metadata={'source': 'data/data.txt'}, page_content='Innovative Company of the Year” from the International Business Award  STEVIE.'),\n",
       " Document(id='5a866810-e27b-4c4a-8f8a-9d10330afbe2', metadata={'source': 'data/data.txt'}, page_content='Certificate of International “Investors in People” Standard. The mobile operator is the only'),\n",
       " Document(id='47b30eaf-8849-48c8-a650-47eaf7f90df2', metadata={'source': 'data/data.txt'}, page_content='company in the country to receive Gold Award in nominations of \"Company of the Year\" and “The Most')]"
      ]
     },
     "execution_count": 27,
     "metadata": {},
     "output_type": "execute_result"
    }
   ],
   "source": [
    "query1_answer\n",
    "#query1_answer[0].page_content"
   ]
  },
  {
   "cell_type": "code",
   "execution_count": 28,
   "metadata": {},
   "outputs": [
    {
     "data": {
      "text/plain": [
       "[(Document(id='dd0a31e6-ea61-4815-8ca8-08d0da4378aa', metadata={'source': 'data/data.txt'}, page_content='Azercell is the only company in Azerbaijan and CIS region which has been awarded Platinum'),\n",
       "  0.2318678),\n",
       " (Document(id='d04169ee-e7f3-4fd0-99b4-b9fa20f37d3a', metadata={'source': 'data/data.txt'}, page_content='Innovative Company of the Year” from the International Business Award  STEVIE.'),\n",
       "  0.38795558),\n",
       " (Document(id='5a866810-e27b-4c4a-8f8a-9d10330afbe2', metadata={'source': 'data/data.txt'}, page_content='Certificate of International “Investors in People” Standard. The mobile operator is the only'),\n",
       "  0.43471655),\n",
       " (Document(id='47b30eaf-8849-48c8-a650-47eaf7f90df2', metadata={'source': 'data/data.txt'}, page_content='company in the country to receive Gold Award in nominations of \"Company of the Year\" and “The Most'),\n",
       "  0.43757594)]"
      ]
     },
     "execution_count": 28,
     "metadata": {},
     "output_type": "execute_result"
    }
   ],
   "source": [
    "docs_and_scores = faiss_search.similarity_search_with_score(query1)\n",
    "docs_and_scores"
   ]
  },
  {
   "cell_type": "code",
   "execution_count": 29,
   "metadata": {},
   "outputs": [],
   "source": [
    "retreiver = faiss_search.as_retriever()\n",
    "qa = RetrievalQA.from_chain_type(llm=OpenAI(), chain_type=\"stuff\", retriever=retreiver)"
   ]
  },
  {
   "cell_type": "code",
   "execution_count": 30,
   "metadata": {},
   "outputs": [],
   "source": [
    "retreiver_query = \"What unique award has Azercell won?\"\n",
    "results = qa.invoke(retreiver_query)"
   ]
  },
  {
   "cell_type": "code",
   "execution_count": 31,
   "metadata": {},
   "outputs": [
    {
     "data": {
      "text/plain": [
       "{'query': 'What unique award has Azercell won?',\n",
       " 'result': '\\nAzercell has won the Platinum Innovative Company of the Year award from the International Business Award STEVIE.'}"
      ]
     },
     "execution_count": 31,
     "metadata": {},
     "output_type": "execute_result"
    }
   ],
   "source": [
    "results"
   ]
  },
  {
   "cell_type": "code",
   "execution_count": null,
   "metadata": {},
   "outputs": [],
   "source": []
  }
 ],
 "metadata": {
  "kernelspec": {
   "display_name": "Python 3",
   "language": "python",
   "name": "python3"
  },
  "language_info": {
   "codemirror_mode": {
    "name": "ipython",
    "version": 3
   },
   "file_extension": ".py",
   "mimetype": "text/x-python",
   "name": "python",
   "nbconvert_exporter": "python",
   "pygments_lexer": "ipython3",
   "version": "3.12.1"
  }
 },
 "nbformat": 4,
 "nbformat_minor": 2
}
